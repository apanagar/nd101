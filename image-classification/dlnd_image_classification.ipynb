{
 "cells": [
  {
   "cell_type": "markdown",
   "metadata": {
    "collapsed": true,
    "deletable": true,
    "editable": true
   },
   "source": [
    "# Image Classification\n",
    "In this project, you'll classify images from the [CIFAR-10 dataset](https://www.cs.toronto.edu/~kriz/cifar.html).  The dataset consists of airplanes, dogs, cats, and other objects. You'll preprocess the images, then train a convolutional neural network on all the samples. The images need to be normalized and the labels need to be one-hot encoded.  You'll get to apply what you learned and build a convolutional, max pooling, dropout, and fully connected layers.  At the end, you'll get to see your neural network's predictions on the sample images.\n",
    "## Get the Data\n",
    "Run the following cell to download the [CIFAR-10 dataset for python](https://www.cs.toronto.edu/~kriz/cifar-10-python.tar.gz)."
   ]
  },
  {
   "cell_type": "code",
   "execution_count": 1,
   "metadata": {
    "collapsed": false,
    "deletable": true,
    "editable": true
   },
   "outputs": [
    {
     "name": "stdout",
     "output_type": "stream",
     "text": [
      "All files found!\n"
     ]
    }
   ],
   "source": [
    "\"\"\"\n",
    "DON'T MODIFY ANYTHING IN THIS CELL THAT IS BELOW THIS LINE\n",
    "\"\"\"\n",
    "from urllib.request import urlretrieve\n",
    "from os.path import isfile, isdir\n",
    "from tqdm import tqdm\n",
    "import problem_unittests as tests\n",
    "import tarfile\n",
    "\n",
    "cifar10_dataset_folder_path = 'cifar-10-batches-py'\n",
    "\n",
    "# Use Floyd's cifar-10 dataset if present\n",
    "floyd_cifar10_location = '/input/cifar-10/python.tar.gz'\n",
    "if isfile(floyd_cifar10_location):\n",
    "    tar_gz_path = floyd_cifar10_location\n",
    "else:\n",
    "    tar_gz_path = 'cifar-10-python.tar.gz'\n",
    "\n",
    "class DLProgress(tqdm):\n",
    "    last_block = 0\n",
    "\n",
    "    def hook(self, block_num=1, block_size=1, total_size=None):\n",
    "        self.total = total_size\n",
    "        self.update((block_num - self.last_block) * block_size)\n",
    "        self.last_block = block_num\n",
    "\n",
    "if not isfile(tar_gz_path):\n",
    "    with DLProgress(unit='B', unit_scale=True, miniters=1, desc='CIFAR-10 Dataset') as pbar:\n",
    "        urlretrieve(\n",
    "            'https://www.cs.toronto.edu/~kriz/cifar-10-python.tar.gz',\n",
    "            tar_gz_path,\n",
    "            pbar.hook)\n",
    "\n",
    "if not isdir(cifar10_dataset_folder_path):\n",
    "    with tarfile.open(tar_gz_path) as tar:\n",
    "        tar.extractall()\n",
    "        tar.close()\n",
    "\n",
    "\n",
    "tests.test_folder_path(cifar10_dataset_folder_path)"
   ]
  },
  {
   "cell_type": "markdown",
   "metadata": {
    "deletable": true,
    "editable": true
   },
   "source": [
    "## Explore the Data\n",
    "The dataset is broken into batches to prevent your machine from running out of memory.  The CIFAR-10 dataset consists of 5 batches, named `data_batch_1`, `data_batch_2`, etc.. Each batch contains the labels and images that are one of the following:\n",
    "* airplane\n",
    "* automobile\n",
    "* bird\n",
    "* cat\n",
    "* deer\n",
    "* dog\n",
    "* frog\n",
    "* horse\n",
    "* ship\n",
    "* truck\n",
    "\n",
    "Understanding a dataset is part of making predictions on the data.  Play around with the code cell below by changing the `batch_id` and `sample_id`. The `batch_id` is the id for a batch (1-5). The `sample_id` is the id for a image and label pair in the batch.\n",
    "\n",
    "Ask yourself \"What are all possible labels?\", \"What is the range of values for the image data?\", \"Are the labels in order or random?\".  Answers to questions like these will help you preprocess the data and end up with better predictions."
   ]
  },
  {
   "cell_type": "code",
   "execution_count": 5,
   "metadata": {
    "collapsed": false,
    "deletable": true,
    "editable": true
   },
   "outputs": [
    {
     "name": "stdout",
     "output_type": "stream",
     "text": [
      "\n",
      "Stats of batch 1:\n",
      "Samples: 10000\n",
      "Label Counts: {0: 1005, 1: 974, 2: 1032, 3: 1016, 4: 999, 5: 937, 6: 1030, 7: 1001, 8: 1025, 9: 981}\n",
      "First 20 Labels: [6, 9, 9, 4, 1, 1, 2, 7, 8, 3, 4, 7, 7, 2, 9, 9, 9, 3, 2, 6]\n",
      "\n",
      "Example of Image 5:\n",
      "Image - Min Value: 0 Max Value: 252\n",
      "Image - Shape: (32, 32, 3)\n",
      "Label - Label Id: 1 Name: automobile\n"
     ]
    },
    {
     "data": {
      "image/png": "[encoded data removed]",
      "text/plain": [
       "<matplotlib.figure.Figure at 0x7f1821184ef0>"
      ]
     },
     "metadata": {
      "image/png": {
       "height": 250,
       "width": 253
      }
     },
     "output_type": "display_data"
    }
   ],
   "source": [
    "%matplotlib inline\n",
    "%config InlineBackend.figure_format = 'retina'\n",
    "\n",
    "import helper\n",
    "import numpy as np\n",
    "\n",
    "# Explore the dataset\n",
    "batch_id = 1\n",
    "sample_id = 5\n",
    "helper.display_stats(cifar10_dataset_folder_path, batch_id, sample_id)"
   ]
  },
  {
   "cell_type": "markdown",
   "metadata": {
    "deletable": true,
    "editable": true
   },
   "source": [
    "## Implement Preprocess Functions\n",
    "### Normalize\n",
    "In the cell below, implement the `normalize` function to take in image data, `x`, and return it as a normalized Numpy array. The values should be in the range of 0 to 1, inclusive.  The return object should be the same shape as `x`."
   ]
  },
  {
   "cell_type": "code",
   "execution_count": 6,
   "metadata": {
    "collapsed": false,
    "deletable": true,
    "editable": true
   },
   "outputs": [
    {
     "name": "stdout",
     "output_type": "stream",
     "text": [
      "Tests Passed\n"
     ]
    }
   ],
   "source": [
    "def normalize(x):\n",
    "    \"\"\"\n",
    "    Normalize a list of sample image data in the range of 0 to 1\n",
    "    : x: List of image data.  The image shape is (32, 32, 3)\n",
    "    : return: Numpy array of normalize data\n",
    "    \"\"\"\n",
    "    # TODO: Implement Function\n",
    "    \n",
    "    return x/255.0\n",
    "\n",
    "\"\"\"\n",
    "DON'T MODIFY ANYTHING IN THIS CELL THAT IS BELOW THIS LINE\n",
    "\"\"\"\n",
    "tests.test_normalize(normalize)"
   ]
  },
  {
   "cell_type": "markdown",
   "metadata": {
    "deletable": true,
    "editable": true
   },
   "source": [
    "### One-hot encode\n",
    "Just like the previous code cell, you'll be implementing a function for preprocessing.  This time, you'll implement the `one_hot_encode` function. The input, `x`, are a list of labels.  Implement the function to return the list of labels as One-Hot encoded Numpy array.  The possible values for labels are 0 to 9. The one-hot encoding function should return the same encoding for each value between each call to `one_hot_encode`.  Make sure to save the map of encodings outside the function.\n",
    "\n",
    "Hint: Don't reinvent the wheel."
   ]
  },
  {
   "cell_type": "code",
   "execution_count": 7,
   "metadata": {
    "collapsed": false,
    "deletable": true,
    "editable": true
   },
   "outputs": [
    {
     "name": "stdout",
     "output_type": "stream",
     "text": [
      "Tests Passed\n"
     ]
    }
   ],
   "source": [
    "def one_hot_encode(x):\n",
    "    \"\"\"\n",
    "    One hot encode a list of sample labels. Return a one-hot encoded vector for each label.\n",
    "    : x: List of sample Labels\n",
    "    : return: Numpy array of one-hot encoded labels\n",
    "    \"\"\"\n",
    "    # TODO: Implement Function\n",
    "    one_hot = np.zeros((len(x), 10))\n",
    "    for i in range(len(x)):\n",
    "        one_hot[i,x[i]] = 1\n",
    "    return one_hot\n",
    "\n",
    "\"\"\"\n",
    "DON'T MODIFY ANYTHING IN THIS CELL THAT IS BELOW THIS LINE\n",
    "\"\"\"\n",
    "tests.test_one_hot_encode(one_hot_encode)"
   ]
  },
  {
   "cell_type": "markdown",
   "metadata": {
    "deletable": true,
    "editable": true
   },
   "source": [
    "### Randomize Data\n",
    "As you saw from exploring the data above, the order of the samples are randomized.  It doesn't hurt to randomize it again, but you don't need to for this dataset."
   ]
  },
  {
   "cell_type": "markdown",
   "metadata": {
    "deletable": true,
    "editable": true
   },
   "source": [
    "## Preprocess all the data and save it\n",
    "Running the code cell below will preprocess all the CIFAR-10 data and save it to file. The code below also uses 10% of the training data for validation."
   ]
  },
  {
   "cell_type": "code",
   "execution_count": 8,
   "metadata": {
    "collapsed": false,
    "deletable": true,
    "editable": true
   },
   "outputs": [],
   "source": [
    "\"\"\"\n",
    "DON'T MODIFY ANYTHING IN THIS CELL\n",
    "\"\"\"\n",
    "# Preprocess Training, Validation, and Testing Data\n",
    "helper.preprocess_and_save_data(cifar10_dataset_folder_path, normalize, one_hot_encode)"
   ]
  },
  {
   "cell_type": "markdown",
   "metadata": {
    "deletable": true,
    "editable": true
   },
   "source": [
    "# Check Point\n",
    "This is your first checkpoint.  If you ever decide to come back to this notebook or have to restart the notebook, you can start from here.  The preprocessed data has been saved to disk."
   ]
  },
  {
   "cell_type": "code",
   "execution_count": 9,
   "metadata": {
    "collapsed": true,
    "deletable": true,
    "editable": true
   },
   "outputs": [],
   "source": [
    "\"\"\"\n",
    "DON'T MODIFY ANYTHING IN THIS CELL\n",
    "\"\"\"\n",
    "import pickle\n",
    "import problem_unittests as tests\n",
    "import helper\n",
    "\n",
    "# Load the Preprocessed Validation data\n",
    "valid_features, valid_labels = pickle.load(open('preprocess_validation.p', mode='rb'))"
   ]
  },
  {
   "cell_type": "markdown",
   "metadata": {
    "deletable": true,
    "editable": true
   },
   "source": [
    "## Build the network\n",
    "For the neural network, you'll build each layer into a function.  Most of the code you've seen has been outside of functions. To test your code more thoroughly, we require that you put each layer in a function.  This allows us to give you better feedback and test for simple mistakes using our unittests before you submit your project.\n",
    "\n",
    ">**Note:** If you're finding it hard to dedicate enough time for this course each week, we've provided a small shortcut to this part of the project. In the next couple of problems, you'll have the option to use classes from the [TensorFlow Layers](https://www.tensorflow.org/api_docs/python/tf/layers) or [TensorFlow Layers (contrib)](https://www.tensorflow.org/api_guides/python/contrib.layers) packages to build each layer, except the layers you build in the \"Convolutional and Max Pooling Layer\" section.  TF Layers is similar to Keras's and TFLearn's abstraction to layers, so it's easy to pickup.\n",
    "\n",
    ">However, if you would like to get the most out of this course, try to solve all the problems _without_ using anything from the TF Layers packages. You **can** still use classes from other packages that happen to have the same name as ones you find in TF Layers! For example, instead of using the TF Layers version of the `conv2d` class, [tf.layers.conv2d](https://www.tensorflow.org/api_docs/python/tf/layers/conv2d), you would want to use the TF Neural Network version of `conv2d`, [tf.nn.conv2d](https://www.tensorflow.org/api_docs/python/tf/nn/conv2d). \n",
    "\n",
    "Let's begin!\n",
    "\n",
    "### Input\n",
    "The neural network needs to read the image data, one-hot encoded labels, and dropout keep probability. Implement the following functions\n",
    "* Implement `neural_net_image_input`\n",
    " * Return a [TF Placeholder](https://www.tensorflow.org/api_docs/python/tf/placeholder)\n",
    " * Set the shape using `image_shape` with batch size set to `None`.\n",
    " * Name the TensorFlow placeholder \"x\" using the TensorFlow `name` parameter in the [TF Placeholder](https://www.tensorflow.org/api_docs/python/tf/placeholder).\n",
    "* Implement `neural_net_label_input`\n",
    " * Return a [TF Placeholder](https://www.tensorflow.org/api_docs/python/tf/placeholder)\n",
    " * Set the shape using `n_classes` with batch size set to `None`.\n",
    " * Name the TensorFlow placeholder \"y\" using the TensorFlow `name` parameter in the [TF Placeholder](https://www.tensorflow.org/api_docs/python/tf/placeholder).\n",
    "* Implement `neural_net_keep_prob_input`\n",
    " * Return a [TF Placeholder](https://www.tensorflow.org/api_docs/python/tf/placeholder) for dropout keep probability.\n",
    " * Name the TensorFlow placeholder \"keep_prob\" using the TensorFlow `name` parameter in the [TF Placeholder](https://www.tensorflow.org/api_docs/python/tf/placeholder).\n",
    "\n",
    "These names will be used at the end of the project to load your saved model.\n",
    "\n",
    "Note: `None` for shapes in TensorFlow allow for a dynamic size."
   ]
  },
  {
   "cell_type": "code",
   "execution_count": 10,
   "metadata": {
    "collapsed": false,
    "deletable": true,
    "editable": true
   },
   "outputs": [
    {
     "name": "stdout",
     "output_type": "stream",
     "text": [
      "Image Input Tests Passed.\n",
      "Label Input Tests Passed.\n",
      "Keep Prob Tests Passed.\n"
     ]
    }
   ],
   "source": [
    "import tensorflow as tf\n",
    "\n",
    "def neural_net_image_input(image_shape):\n",
    "    \"\"\"\n",
    "    Return a Tensor for a batch of image input\n",
    "    : image_shape: Shape of the images\n",
    "    : return: Tensor for image input.\n",
    "    \"\"\"\n",
    "    # TODO: Implement Function\n",
    "    return tf.placeholder(tf.float32, [None] + list(image_shape), \"x\")\n",
    "\n",
    "\n",
    "def neural_net_label_input(n_classes):\n",
    "    \"\"\"\n",
    "    Return a Tensor for a batch of label input\n",
    "    : n_classes: Number of classes\n",
    "    : return: Tensor for label input.\n",
    "    \"\"\"\n",
    "    # TODO: Implement Function\n",
    "    return tf.placeholder(tf.float32, [None, n_classes], 'y')\n",
    "\n",
    "\n",
    "def neural_net_keep_prob_input():\n",
    "    \"\"\"\n",
    "    Return a Tensor for keep probability\n",
    "    : return: Tensor for keep probability.\n",
    "    \"\"\"\n",
    "    # TODO: Implement Function\n",
    "    return tf.placeholder(tf.float32, None, 'keep_prob')\n",
    "\n",
    "\n",
    "\"\"\"\n",
    "DON'T MODIFY ANYTHING IN THIS CELL THAT IS BELOW THIS LINE\n",
    "\"\"\"\n",
    "tf.reset_default_graph()\n",
    "tests.test_nn_image_inputs(neural_net_image_input)\n",
    "tests.test_nn_label_inputs(neural_net_label_input)\n",
    "tests.test_nn_keep_prob_inputs(neural_net_keep_prob_input)"
   ]
  },
  {
   "cell_type": "markdown",
   "metadata": {
    "deletable": true,
    "editable": true
   },
   "source": [
    "### Convolution and Max Pooling Layer\n",
    "Convolution layers have a lot of success with images. For this code cell, you should implement the function `conv2d_maxpool` to apply convolution then max pooling:\n",
    "* Create the weight and bias using `conv_ksize`, `conv_num_outputs` and the shape of `x_tensor`.\n",
    "* Apply a convolution to `x_tensor` using weight and `conv_strides`.\n",
    " * We recommend you use same padding, but you're welcome to use any padding.\n",
    "* Add bias\n",
    "* Add a nonlinear activation to the convolution.\n",
    "* Apply Max Pooling using `pool_ksize` and `pool_strides`.\n",
    " * We recommend you use same padding, but you're welcome to use any padding.\n",
    "\n",
    "**Note:** You **can't** use [TensorFlow Layers](https://www.tensorflow.org/api_docs/python/tf/layers) or [TensorFlow Layers (contrib)](https://www.tensorflow.org/api_guides/python/contrib.layers) for **this** layer, but you can still use TensorFlow's [Neural Network](https://www.tensorflow.org/api_docs/python/tf/nn) package. You may still use the shortcut option for all the **other** layers."
   ]
  },
  {
   "cell_type": "code",
   "execution_count": 11,
   "metadata": {
    "collapsed": false,
    "deletable": true,
    "editable": true
   },
   "outputs": [
    {
     "name": "stdout",
     "output_type": "stream",
     "text": [
      "Tests Passed\n"
     ]
    }
   ],
   "source": [
    "def conv2d_maxpool(x_tensor, conv_num_outputs, conv_ksize, conv_strides, pool_ksize, pool_strides):\n",
    "    \"\"\"\n",
    "    Apply convolution then max pooling to x_tensor\n",
    "    :param x_tensor: TensorFlow Tensor\n",
    "    :param conv_num_outputs: Number of outputs for the convolutional layer\n",
    "    :param conv_ksize: kernal size 2-D Tuple for the convolutional layer\n",
    "    :param conv_strides: Stride 2-D Tuple for convolution\n",
    "    :param pool_ksize: kernal size 2-D Tuple for pool\n",
    "    :param pool_strides: Stride 2-D Tuple for pool\n",
    "    : return: A tensor that represents convolution and max pooling of x_tensor\n",
    "    \"\"\"\n",
    "    # TODO: Implement Function\n",
    "    dims = x_tensor.get_shape().as_list()\n",
    "    filter_shape = (conv_ksize) + (dims[-1],) + (conv_num_outputs,)\n",
    "    filter_weights = tf.Variable(tf.truncated_normal(filter_shape, mean=0.0, stddev=0.1))\n",
    "    filter_bias = tf.Variable(tf.zeros(conv_num_outputs))\n",
    "    strides = (1,) + conv_strides + (1,)\n",
    "    padding = 'SAME'\n",
    "    conv_layer = tf.nn.conv2d(x_tensor, filter_weights, strides, padding)\n",
    "    conv_layer = tf.nn.bias_add(conv_layer, filter_bias)\n",
    "    conv_layer = tf.nn.relu(conv_layer)\n",
    "    conv_layer = tf.nn.max_pool(conv_layer, \n",
    "                                ksize = (1,) + pool_ksize + (1,), \n",
    "                                strides = (1,) + pool_strides + (1,), \n",
    "                                padding = 'SAME')    \n",
    "    return conv_layer \n",
    "\n",
    "\n",
    "\"\"\"\n",
    "DON'T MODIFY ANYTHING IN THIS CELL THAT IS BELOW THIS LINE\n",
    "\"\"\"\n",
    "tests.test_con_pool(conv2d_maxpool)"
   ]
  },
  {
   "cell_type": "markdown",
   "metadata": {
    "deletable": true,
    "editable": true
   },
   "source": [
    "### Flatten Layer\n",
    "Implement the `flatten` function to change the dimension of `x_tensor` from a 4-D tensor to a 2-D tensor.  The output should be the shape (*Batch Size*, *Flattened Image Size*). Shortcut option: you can use classes from the [TensorFlow Layers](https://www.tensorflow.org/api_docs/python/tf/layers) or [TensorFlow Layers (contrib)](https://www.tensorflow.org/api_guides/python/contrib.layers) packages for this layer. For more of a challenge, only use other TensorFlow packages."
   ]
  },
  {
   "cell_type": "code",
   "execution_count": 12,
   "metadata": {
    "collapsed": false,
    "deletable": true,
    "editable": true
   },
   "outputs": [
    {
     "name": "stdout",
     "output_type": "stream",
     "text": [
      "Tests Passed\n"
     ]
    }
   ],
   "source": [
    "from numpy import product\n",
    "def flatten(x_tensor):\n",
    "    \"\"\"\n",
    "    Flatten x_tensor to (Batch Size, Flattened Image Size)\n",
    "    : x_tensor: A tensor of size (Batch Size, ...), where ... are the image dimensions.\n",
    "    : return: A tensor of size (Batch Size, Flattened Image Size).\n",
    "    \"\"\"\n",
    "    # TODO: Implement Function\n",
    "    dims = x_tensor.get_shape().as_list()\n",
    "    flat_dim = product(dims[1:])\n",
    "    return tf.reshape(x_tensor, [-1, flat_dim] )\n",
    "\n",
    "\n",
    "\"\"\"\n",
    "DON'T MODIFY ANYTHING IN THIS CELL THAT IS BELOW THIS LINE\n",
    "\"\"\"\n",
    "tests.test_flatten(flatten)"
   ]
  },
  {
   "cell_type": "markdown",
   "metadata": {
    "deletable": true,
    "editable": true
   },
   "source": [
    "### Fully-Connected Layer\n",
    "Implement the `fully_conn` function to apply a fully connected layer to `x_tensor` with the shape (*Batch Size*, *num_outputs*). Shortcut option: you can use classes from the [TensorFlow Layers](https://www.tensorflow.org/api_docs/python/tf/layers) or [TensorFlow Layers (contrib)](https://www.tensorflow.org/api_guides/python/contrib.layers) packages for this layer. For more of a challenge, only use other TensorFlow packages."
   ]
  },
  {
   "cell_type": "code",
   "execution_count": 13,
   "metadata": {
    "collapsed": false,
    "deletable": true,
    "editable": true
   },
   "outputs": [
    {
     "name": "stdout",
     "output_type": "stream",
     "text": [
      "Tests Passed\n"
     ]
    }
   ],
   "source": [
    "def fully_conn(x_tensor, num_outputs):\n",
    "    \"\"\"\n",
    "    Apply a fully connected layer to x_tensor using weight and bias\n",
    "    : x_tensor: A 2-D tensor where the first dimension is batch size.\n",
    "    : num_outputs: The number of output that the new tensor should be.\n",
    "    : return: A 2-D tensor where the second dimension is num_outputs.\n",
    "    \"\"\"\n",
    "    # TODO: Implement Function\n",
    "    dimension = x_tensor.get_shape().as_list()\n",
    "    shape = [dimension[-1], num_outputs]\n",
    "    \n",
    "    weights = tf.Variable(tf.truncated_normal(shape, mean = 0.0, stddev = 0.01))\n",
    "    bias = tf.Variable(tf.zeros(num_outputs))\n",
    "    \n",
    "    fully_connected = tf.nn.relu(tf.add(tf.matmul(x_tensor, weights), bias))\n",
    "    \n",
    "    return fully_connected\n",
    "\n",
    "\n",
    "\"\"\"\n",
    "DON'T MODIFY ANYTHING IN THIS CELL THAT IS BELOW THIS LINE\n",
    "\"\"\"\n",
    "tests.test_fully_conn(fully_conn)"
   ]
  },
  {
   "cell_type": "markdown",
   "metadata": {
    "deletable": true,
    "editable": true
   },
   "source": [
    "### Output Layer\n",
    "Implement the `output` function to apply a fully connected layer to `x_tensor` with the shape (*Batch Size*, *num_outputs*). Shortcut option: you can use classes from the [TensorFlow Layers](https://www.tensorflow.org/api_docs/python/tf/layers) or [TensorFlow Layers (contrib)](https://www.tensorflow.org/api_guides/python/contrib.layers) packages for this layer. For more of a challenge, only use other TensorFlow packages.\n",
    "\n",
    "**Note:** Activation, softmax, or cross entropy should **not** be applied to this."
   ]
  },
  {
   "cell_type": "code",
   "execution_count": 14,
   "metadata": {
    "collapsed": false,
    "deletable": true,
    "editable": true
   },
   "outputs": [
    {
     "name": "stdout",
     "output_type": "stream",
     "text": [
      "Tests Passed\n"
     ]
    }
   ],
   "source": [
    "def output(x_tensor, num_outputs):\n",
    "    \"\"\"\n",
    "    Apply a output layer to x_tensor using weight and bias\n",
    "    : x_tensor: A 2-D tensor where the first dimension is batch size.\n",
    "    : num_outputs: The number of output that the new tensor should be.\n",
    "    : return: A 2-D tensor where the second dimension is num_outputs.\n",
    "    \"\"\"\n",
    "    # TODO: Implement Function\n",
    "    dimension = x_tensor.get_shape().as_list()\n",
    "    shape = [dimension[-1], num_outputs]\n",
    "    \n",
    "    weights = tf.Variable(tf.truncated_normal(shape, mean = 0.0, stddev = 0.01))\n",
    "    bias = tf.Variable(tf.zeros(num_outputs))\n",
    "    \n",
    "    output = tf.add(tf.matmul(x_tensor, weights), bias)\n",
    "\n",
    "    return output\n",
    "\n",
    "\n",
    "\"\"\"\n",
    "DON'T MODIFY ANYTHING IN THIS CELL THAT IS BELOW THIS LINE\n",
    "\"\"\"\n",
    "tests.test_output(output)"
   ]
  },
  {
   "cell_type": "markdown",
   "metadata": {
    "deletable": true,
    "editable": true
   },
   "source": [
    "### Create Convolutional Model\n",
    "Implement the function `conv_net` to create a convolutional neural network model. The function takes in a batch of images, `x`, and outputs logits.  Use the layers you created above to create this model:\n",
    "\n",
    "* Apply 1, 2, or 3 Convolution and Max Pool layers\n",
    "* Apply a Flatten Layer\n",
    "* Apply 1, 2, or 3 Fully Connected Layers\n",
    "* Apply an Output Layer\n",
    "* Return the output\n",
    "* Apply [TensorFlow's Dropout](https://www.tensorflow.org/api_docs/python/tf/nn/dropout) to one or more layers in the model using `keep_prob`. "
   ]
  },
  {
   "cell_type": "code",
   "execution_count": 20,
   "metadata": {
    "collapsed": false,
    "deletable": true,
    "editable": true
   },
   "outputs": [
    {
     "name": "stdout",
     "output_type": "stream",
     "text": [
      "Neural Network Built!\n"
     ]
    }
   ],
   "source": [
    "def conv_net(x, keep_prob):\n",
    "    \"\"\"\n",
    "    Create a convolutional neural network model\n",
    "    : x: Placeholder tensor that holds image data.\n",
    "    : keep_prob: Placeholder tensor that hold dropout keep probability.\n",
    "    : return: Tensor that represents logits\n",
    "    \"\"\"\n",
    "    # TODO: Apply 1, 2, or 3 Convolution and Max Pool layers\n",
    "    #    Play around with different number of outputs, kernel size and stride\n",
    "    # Function Definition from Above:\n",
    "    #    conv2d_maxpool(x_tensor, conv_num_outputs, conv_ksize, conv_strides, pool_ksize, pool_strides)\n",
    "    model = conv2d_maxpool(x, conv_num_outputs=20, conv_ksize=(4,4), conv_strides=(1,1), pool_ksize=(8,8), pool_strides = (2,2))\n",
    "#   model = conv2d_maxpool(x, conv_num_outputs=15, conv_ksize=(2,2), conv_strides=(2,2), pool_ksize=(8,8), pool_strides = (2,2))\n",
    "#   model = conv2d_maxpool(x, conv_num_outputs=50, conv_ksize=(4,4), conv_strides=(2,2), pool_ksize=(8,8), pool_strides = (4,4))    \n",
    "\n",
    "  #  model = tf.nn.dropout(model, keep_prob)\n",
    "    # TODO: Apply a Flatten Layer\n",
    "    # Function Definition from Above:\n",
    "    #   flatten(x_tensor)\n",
    "    model = flatten(model)\n",
    "\n",
    "    # TODO: Apply 1, 2, or 3 Fully Connected Layers\n",
    "    #    Play around with different number of outputs\n",
    "    # Function Definition from Above:\n",
    "    #   fully_conn(x_tensor, num_outputs)\n",
    "    model = fully_conn(model, num_outputs = 400)\n",
    " #   model = fully_conn(model, num_outputs = 100)\n",
    "    \n",
    "    model = tf.nn.dropout(model, keep_prob)\n",
    "    # TODO: Apply an Output Layer\n",
    "    #    Set this to the number of classes\n",
    "    # Function Definition from Above:\n",
    "    #   output(x_tensor, num_outputs)\n",
    "    model = output(model, num_outputs = 10)\n",
    "    \n",
    "    # TODO: return output\n",
    "    return model\n",
    "\n",
    "\n",
    "\"\"\"\n",
    "DON'T MODIFY ANYTHING IN THIS CELL THAT IS BELOW THIS LINE\n",
    "\"\"\"\n",
    "\n",
    "##############################\n",
    "## Build the Neural Network ##\n",
    "##############################\n",
    "\n",
    "# Remove previous weights, bias, inputs, etc..\n",
    "tf.reset_default_graph()\n",
    "\n",
    "# Inputs\n",
    "x = neural_net_image_input((32, 32, 3))\n",
    "y = neural_net_label_input(10)\n",
    "keep_prob = neural_net_keep_prob_input()\n",
    "\n",
    "# Model\n",
    "logits = conv_net(x, keep_prob)\n",
    "\n",
    "# Name logits Tensor, so that is can be loaded from disk after training\n",
    "logits = tf.identity(logits, name='logits')\n",
    "\n",
    "# Loss and Optimizer\n",
    "cost = tf.reduce_mean(tf.nn.softmax_cross_entropy_with_logits(logits=logits, labels=y))\n",
    "optimizer = tf.train.AdamOptimizer().minimize(cost)\n",
    "\n",
    "# Accuracy\n",
    "correct_pred = tf.equal(tf.argmax(logits, 1), tf.argmax(y, 1))\n",
    "accuracy = tf.reduce_mean(tf.cast(correct_pred, tf.float32), name='accuracy')\n",
    "\n",
    "tests.test_conv_net(conv_net)"
   ]
  },
  {
   "cell_type": "markdown",
   "metadata": {
    "deletable": true,
    "editable": true
   },
   "source": [
    "## Train the Neural Network\n",
    "### Single Optimization\n",
    "Implement the function `train_neural_network` to do a single optimization.  The optimization should use `optimizer` to optimize in `session` with a `feed_dict` of the following:\n",
    "* `x` for image input\n",
    "* `y` for labels\n",
    "* `keep_prob` for keep probability for dropout\n",
    "\n",
    "This function will be called for each batch, so `tf.global_variables_initializer()` has already been called.\n",
    "\n",
    "Note: Nothing needs to be returned. This function is only optimizing the neural network."
   ]
  },
  {
   "cell_type": "code",
   "execution_count": 21,
   "metadata": {
    "collapsed": false,
    "deletable": true,
    "editable": true
   },
   "outputs": [
    {
     "name": "stdout",
     "output_type": "stream",
     "text": [
      "Tests Passed\n"
     ]
    }
   ],
   "source": [
    "def train_neural_network(session, optimizer, keep_probability, feature_batch, label_batch):\n",
    "    \"\"\"\n",
    "    Optimize the session on a batch of images and labels\n",
    "    : session: Current TensorFlow session\n",
    "    : optimizer: TensorFlow optimizer function\n",
    "    : keep_probability: keep probability\n",
    "    : feature_batch: Batch of Numpy image data\n",
    "    : label_batch: Batch of Numpy label data\n",
    "    \"\"\"\n",
    "    # TODO: Implement Function\n",
    "    session.run(optimizer, feed_dict={x:feature_batch, y:label_batch, keep_prob:keep_probability})\n",
    "\n",
    "\"\"\"\n",
    "DON'T MODIFY ANYTHING IN THIS CELL THAT IS BELOW THIS LINE\n",
    "\"\"\"\n",
    "tests.test_train_nn(train_neural_network)"
   ]
  },
  {
   "cell_type": "markdown",
   "metadata": {
    "deletable": true,
    "editable": true
   },
   "source": [
    "### Show Stats\n",
    "Implement the function `print_stats` to print loss and validation accuracy.  Use the global variables `valid_features` and `valid_labels` to calculate validation accuracy.  Use a keep probability of `1.0` to calculate the loss and validation accuracy."
   ]
  },
  {
   "cell_type": "code",
   "execution_count": 22,
   "metadata": {
    "collapsed": false,
    "deletable": true,
    "editable": true
   },
   "outputs": [],
   "source": [
    "def print_stats(session, feature_batch, label_batch, cost, accuracy):\n",
    "    \"\"\"\n",
    "    Print information about loss and validation accuracy\n",
    "    : session: Current TensorFlow session\n",
    "    : feature_batch: Batch of Numpy image data\n",
    "    : label_batch: Batch of Numpy label data\n",
    "    : cost: TensorFlow cost function\n",
    "    : accuracy: TensorFlow accuracy function\n",
    "    \"\"\"\n",
    "    # TODO: Implement Function\n",
    "    keep_probability = 1.0\n",
    "    loss = session.run(cost, feed_dict={x:feature_batch, y:label_batch, keep_prob:keep_probability})\n",
    "    valid_acc = session.run(accuracy, feed_dict={x:valid_features, y:valid_labels, keep_prob:keep_probability})\n",
    "    print('Loss: {:>10.4f} Validation Accuracy: {:.6f}'.format(\n",
    "                loss,\n",
    "                valid_acc))"
   ]
  },
  {
   "cell_type": "markdown",
   "metadata": {
    "deletable": true,
    "editable": true
   },
   "source": [
    "### Hyperparameters\n",
    "Tune the following parameters:\n",
    "* Set `epochs` to the number of iterations until the network stops learning or start overfitting\n",
    "* Set `batch_size` to the highest number that your machine has memory for.  Most people set them to common sizes of memory:\n",
    " * 64\n",
    " * 128\n",
    " * 256\n",
    " * ...\n",
    "* Set `keep_probability` to the probability of keeping a node using dropout"
   ]
  },
  {
   "cell_type": "code",
   "execution_count": 23,
   "metadata": {
    "collapsed": true,
    "deletable": true,
    "editable": true
   },
   "outputs": [],
   "source": [
    "# TODO: Tune Parameters\n",
    "epochs = 50\n",
    "batch_size = 512\n",
    "keep_probability = 0.9"
   ]
  },
  {
   "cell_type": "markdown",
   "metadata": {
    "deletable": true,
    "editable": true
   },
   "source": [
    "### Train on a Single CIFAR-10 Batch\n",
    "Instead of training the neural network on all the CIFAR-10 batches of data, let's use a single batch. This should save time while you iterate on the model to get a better accuracy.  Once the final validation accuracy is 50% or greater, run the model on all the data in the next section."
   ]
  },
  {
   "cell_type": "code",
   "execution_count": 24,
   "metadata": {
    "collapsed": false,
    "deletable": true,
    "editable": true
   },
   "outputs": [
    {
     "name": "stdout",
     "output_type": "stream",
     "text": [
      "Checking the Training on a Single Batch...\n",
      "Epoch  1, CIFAR-10 Batch 1:  Loss:     1.9267 Validation Accuracy: 0.315400\n",
      "Epoch  2, CIFAR-10 Batch 1:  Loss:     1.7553 Validation Accuracy: 0.410000\n",
      "Epoch  3, CIFAR-10 Batch 1:  Loss:     1.6547 Validation Accuracy: 0.439400\n",
      "Epoch  4, CIFAR-10 Batch 1:  Loss:     1.5384 Validation Accuracy: 0.472000\n",
      "Epoch  5, CIFAR-10 Batch 1:  Loss:     1.4775 Validation Accuracy: 0.494200\n",
      "Epoch  6, CIFAR-10 Batch 1:  Loss:     1.3941 Validation Accuracy: 0.511200\n",
      "Epoch  7, CIFAR-10 Batch 1:  Loss:     1.3303 Validation Accuracy: 0.526200\n",
      "Epoch  8, CIFAR-10 Batch 1:  Loss:     1.2624 Validation Accuracy: 0.540600\n",
      "Epoch  9, CIFAR-10 Batch 1:  Loss:     1.2221 Validation Accuracy: 0.547400\n",
      "Epoch 10, CIFAR-10 Batch 1:  Loss:     1.1667 Validation Accuracy: 0.553200\n",
      "Epoch 11, CIFAR-10 Batch 1:  Loss:     1.1221 Validation Accuracy: 0.561400\n",
      "Epoch 12, CIFAR-10 Batch 1:  Loss:     1.0801 Validation Accuracy: 0.566800\n",
      "Epoch 13, CIFAR-10 Batch 1:  Loss:     1.0298 Validation Accuracy: 0.575000\n",
      "Epoch 14, CIFAR-10 Batch 1:  Loss:     1.0091 Validation Accuracy: 0.571800\n",
      "Epoch 15, CIFAR-10 Batch 1:  Loss:     0.9920 Validation Accuracy: 0.571000\n",
      "Epoch 16, CIFAR-10 Batch 1:  Loss:     0.9454 Validation Accuracy: 0.588600\n",
      "Epoch 17, CIFAR-10 Batch 1:  Loss:     0.8987 Validation Accuracy: 0.587600\n",
      "Epoch 18, CIFAR-10 Batch 1:  Loss:     0.8560 Validation Accuracy: 0.594200\n",
      "Epoch 19, CIFAR-10 Batch 1:  Loss:     0.8233 Validation Accuracy: 0.590200\n",
      "Epoch 20, CIFAR-10 Batch 1:  Loss:     0.7926 Validation Accuracy: 0.596400\n",
      "Epoch 21, CIFAR-10 Batch 1:  Loss:     0.7662 Validation Accuracy: 0.603000\n",
      "Epoch 22, CIFAR-10 Batch 1:  Loss:     0.7382 Validation Accuracy: 0.605000\n",
      "Epoch 23, CIFAR-10 Batch 1:  Loss:     0.7093 Validation Accuracy: 0.606400\n",
      "Epoch 24, CIFAR-10 Batch 1:  Loss:     0.6841 Validation Accuracy: 0.607400\n",
      "Epoch 25, CIFAR-10 Batch 1:  Loss:     0.6623 Validation Accuracy: 0.610600\n",
      "Epoch 26, CIFAR-10 Batch 1:  Loss:     0.6266 Validation Accuracy: 0.615000\n",
      "Epoch 27, CIFAR-10 Batch 1:  Loss:     0.6156 Validation Accuracy: 0.619200\n",
      "Epoch 28, CIFAR-10 Batch 1:  Loss:     0.5850 Validation Accuracy: 0.619000\n",
      "Epoch 29, CIFAR-10 Batch 1:  Loss:     0.5716 Validation Accuracy: 0.616800\n",
      "Epoch 30, CIFAR-10 Batch 1:  Loss:     0.5396 Validation Accuracy: 0.623200\n",
      "Epoch 31, CIFAR-10 Batch 1:  Loss:     0.5189 Validation Accuracy: 0.619400\n",
      "Epoch 32, CIFAR-10 Batch 1:  Loss:     0.5037 Validation Accuracy: 0.620200\n",
      "Epoch 33, CIFAR-10 Batch 1:  Loss:     0.4827 Validation Accuracy: 0.626600\n",
      "Epoch 34, CIFAR-10 Batch 1:  Loss:     0.4603 Validation Accuracy: 0.620000\n",
      "Epoch 35, CIFAR-10 Batch 1:  Loss:     0.4500 Validation Accuracy: 0.624400\n",
      "Epoch 36, CIFAR-10 Batch 1:  Loss:     0.4172 Validation Accuracy: 0.629800\n",
      "Epoch 37, CIFAR-10 Batch 1:  Loss:     0.4162 Validation Accuracy: 0.615400\n",
      "Epoch 38, CIFAR-10 Batch 1:  Loss:     0.4461 Validation Accuracy: 0.594400\n",
      "Epoch 39, CIFAR-10 Batch 1:  Loss:     0.3804 Validation Accuracy: 0.620400\n",
      "Epoch 40, CIFAR-10 Batch 1:  Loss:     0.3576 Validation Accuracy: 0.624800\n",
      "Epoch 41, CIFAR-10 Batch 1:  Loss:     0.3618 Validation Accuracy: 0.614600\n",
      "Epoch 42, CIFAR-10 Batch 1:  Loss:     0.3683 Validation Accuracy: 0.604600\n",
      "Epoch 43, CIFAR-10 Batch 1:  Loss:     0.3418 Validation Accuracy: 0.611400\n",
      "Epoch 44, CIFAR-10 Batch 1:  Loss:     0.3228 Validation Accuracy: 0.616200\n",
      "Epoch 45, CIFAR-10 Batch 1:  Loss:     0.3235 Validation Accuracy: 0.604600\n",
      "Epoch 46, CIFAR-10 Batch 1:  Loss:     0.3217 Validation Accuracy: 0.608400\n",
      "Epoch 47, CIFAR-10 Batch 1:  Loss:     0.3194 Validation Accuracy: 0.603400\n",
      "Epoch 48, CIFAR-10 Batch 1:  Loss:     0.3058 Validation Accuracy: 0.608600\n",
      "Epoch 49, CIFAR-10 Batch 1:  Loss:     0.2776 Validation Accuracy: 0.619600\n",
      "Epoch 50, CIFAR-10 Batch 1:  Loss:     0.2979 Validation Accuracy: 0.611000\n"
     ]
    }
   ],
   "source": [
    "\"\"\"\n",
    "DON'T MODIFY ANYTHING IN THIS CELL\n",
    "\"\"\"\n",
    "print('Checking the Training on a Single Batch...')\n",
    "with tf.Session() as sess:\n",
    "    # Initializing the variables\n",
    "    sess.run(tf.global_variables_initializer())\n",
    "    \n",
    "    # Training cycle\n",
    "    for epoch in range(epochs):\n",
    "        batch_i = 1\n",
    "        for batch_features, batch_labels in helper.load_preprocess_training_batch(batch_i, batch_size):\n",
    "            train_neural_network(sess, optimizer, keep_probability, batch_features, batch_labels)\n",
    "        print('Epoch {:>2}, CIFAR-10 Batch {}:  '.format(epoch + 1, batch_i), end='')\n",
    "        print_stats(sess, batch_features, batch_labels, cost, accuracy)"
   ]
  },
  {
   "cell_type": "markdown",
   "metadata": {
    "deletable": true,
    "editable": true
   },
   "source": [
    "### Fully Train the Model\n",
    "Now that you got a good accuracy with a single CIFAR-10 batch, try it with all five batches."
   ]
  },
  {
   "cell_type": "code",
   "execution_count": 25,
   "metadata": {
    "collapsed": false,
    "deletable": true,
    "editable": true
   },
   "outputs": [
    {
     "name": "stdout",
     "output_type": "stream",
     "text": [
      "Training...\n",
      "Epoch  1, CIFAR-10 Batch 1:  Loss:     1.9828 Validation Accuracy: 0.308400\n",
      "Epoch  1, CIFAR-10 Batch 2:  Loss:     1.6937 Validation Accuracy: 0.377800\n",
      "Epoch  1, CIFAR-10 Batch 3:  Loss:     1.6268 Validation Accuracy: 0.391200\n",
      "Epoch  1, CIFAR-10 Batch 4:  Loss:     1.5155 Validation Accuracy: 0.426000\n",
      "Epoch  1, CIFAR-10 Batch 5:  Loss:     1.5702 Validation Accuracy: 0.451800\n",
      "Epoch  2, CIFAR-10 Batch 1:  Loss:     1.5169 Validation Accuracy: 0.485000\n",
      "Epoch  2, CIFAR-10 Batch 2:  Loss:     1.3517 Validation Accuracy: 0.487400\n",
      "Epoch  2, CIFAR-10 Batch 3:  Loss:     1.3376 Validation Accuracy: 0.498200\n",
      "Epoch  2, CIFAR-10 Batch 4:  Loss:     1.2397 Validation Accuracy: 0.517200\n",
      "Epoch  2, CIFAR-10 Batch 5:  Loss:     1.3245 Validation Accuracy: 0.537600\n",
      "Epoch  3, CIFAR-10 Batch 1:  Loss:     1.3279 Validation Accuracy: 0.533400\n",
      "Epoch  3, CIFAR-10 Batch 2:  Loss:     1.1946 Validation Accuracy: 0.544600\n",
      "Epoch  3, CIFAR-10 Batch 3:  Loss:     1.1795 Validation Accuracy: 0.539000\n",
      "Epoch  3, CIFAR-10 Batch 4:  Loss:     1.1358 Validation Accuracy: 0.550600\n",
      "Epoch  3, CIFAR-10 Batch 5:  Loss:     1.2136 Validation Accuracy: 0.566200\n",
      "Epoch  4, CIFAR-10 Batch 1:  Loss:     1.2264 Validation Accuracy: 0.565200\n",
      "Epoch  4, CIFAR-10 Batch 2:  Loss:     1.0994 Validation Accuracy: 0.578800\n",
      "Epoch  4, CIFAR-10 Batch 3:  Loss:     1.0800 Validation Accuracy: 0.565800\n",
      "Epoch  4, CIFAR-10 Batch 4:  Loss:     1.0706 Validation Accuracy: 0.574200\n",
      "Epoch  4, CIFAR-10 Batch 5:  Loss:     1.1330 Validation Accuracy: 0.584400\n",
      "Epoch  5, CIFAR-10 Batch 1:  Loss:     1.1482 Validation Accuracy: 0.588600\n",
      "Epoch  5, CIFAR-10 Batch 2:  Loss:     1.0386 Validation Accuracy: 0.596400\n",
      "Epoch  5, CIFAR-10 Batch 3:  Loss:     1.0075 Validation Accuracy: 0.581800\n",
      "Epoch  5, CIFAR-10 Batch 4:  Loss:     1.0224 Validation Accuracy: 0.583600\n",
      "Epoch  5, CIFAR-10 Batch 5:  Loss:     1.0629 Validation Accuracy: 0.598800\n",
      "Epoch  6, CIFAR-10 Batch 1:  Loss:     1.0847 Validation Accuracy: 0.604800\n",
      "Epoch  6, CIFAR-10 Batch 2:  Loss:     0.9780 Validation Accuracy: 0.608200\n",
      "Epoch  6, CIFAR-10 Batch 3:  Loss:     0.9618 Validation Accuracy: 0.599800\n",
      "Epoch  6, CIFAR-10 Batch 4:  Loss:     0.9648 Validation Accuracy: 0.600800\n",
      "Epoch  6, CIFAR-10 Batch 5:  Loss:     1.0017 Validation Accuracy: 0.616600\n",
      "Epoch  7, CIFAR-10 Batch 1:  Loss:     1.0446 Validation Accuracy: 0.605400\n",
      "Epoch  7, CIFAR-10 Batch 2:  Loss:     0.9280 Validation Accuracy: 0.623200\n",
      "Epoch  7, CIFAR-10 Batch 3:  Loss:     0.9225 Validation Accuracy: 0.615000\n",
      "Epoch  7, CIFAR-10 Batch 4:  Loss:     0.9333 Validation Accuracy: 0.612000\n",
      "Epoch  7, CIFAR-10 Batch 5:  Loss:     0.9420 Validation Accuracy: 0.621000\n",
      "Epoch  8, CIFAR-10 Batch 1:  Loss:     1.0002 Validation Accuracy: 0.620400\n",
      "Epoch  8, CIFAR-10 Batch 2:  Loss:     0.9004 Validation Accuracy: 0.625600\n",
      "Epoch  8, CIFAR-10 Batch 3:  Loss:     0.8805 Validation Accuracy: 0.623200\n",
      "Epoch  8, CIFAR-10 Batch 4:  Loss:     0.9086 Validation Accuracy: 0.624200\n",
      "Epoch  8, CIFAR-10 Batch 5:  Loss:     0.8863 Validation Accuracy: 0.630200\n",
      "Epoch  9, CIFAR-10 Batch 1:  Loss:     0.9663 Validation Accuracy: 0.630000\n",
      "Epoch  9, CIFAR-10 Batch 2:  Loss:     0.8864 Validation Accuracy: 0.628200\n",
      "Epoch  9, CIFAR-10 Batch 3:  Loss:     0.8323 Validation Accuracy: 0.631800\n",
      "Epoch  9, CIFAR-10 Batch 4:  Loss:     0.8540 Validation Accuracy: 0.645600\n",
      "Epoch  9, CIFAR-10 Batch 5:  Loss:     0.8405 Validation Accuracy: 0.639400\n",
      "Epoch 10, CIFAR-10 Batch 1:  Loss:     0.9320 Validation Accuracy: 0.636000\n",
      "Epoch 10, CIFAR-10 Batch 2:  Loss:     0.8764 Validation Accuracy: 0.623600\n",
      "Epoch 10, CIFAR-10 Batch 3:  Loss:     0.8141 Validation Accuracy: 0.625400\n",
      "Epoch 10, CIFAR-10 Batch 4:  Loss:     0.8161 Validation Accuracy: 0.649000\n",
      "Epoch 10, CIFAR-10 Batch 5:  Loss:     0.7970 Validation Accuracy: 0.647000\n",
      "Epoch 11, CIFAR-10 Batch 1:  Loss:     0.8996 Validation Accuracy: 0.641600\n",
      "Epoch 11, CIFAR-10 Batch 2:  Loss:     0.8417 Validation Accuracy: 0.635800\n",
      "Epoch 11, CIFAR-10 Batch 3:  Loss:     0.7916 Validation Accuracy: 0.628800\n",
      "Epoch 11, CIFAR-10 Batch 4:  Loss:     0.7886 Validation Accuracy: 0.646400\n",
      "Epoch 11, CIFAR-10 Batch 5:  Loss:     0.7631 Validation Accuracy: 0.647800\n",
      "Epoch 12, CIFAR-10 Batch 1:  Loss:     0.8626 Validation Accuracy: 0.649800\n",
      "Epoch 12, CIFAR-10 Batch 2:  Loss:     0.8184 Validation Accuracy: 0.637800\n",
      "Epoch 12, CIFAR-10 Batch 3:  Loss:     0.7773 Validation Accuracy: 0.623000\n",
      "Epoch 12, CIFAR-10 Batch 4:  Loss:     0.7604 Validation Accuracy: 0.647200\n",
      "Epoch 12, CIFAR-10 Batch 5:  Loss:     0.7280 Validation Accuracy: 0.660000\n",
      "Epoch 13, CIFAR-10 Batch 1:  Loss:     0.8343 Validation Accuracy: 0.657000\n",
      "Epoch 13, CIFAR-10 Batch 2:  Loss:     0.7756 Validation Accuracy: 0.647400\n",
      "Epoch 13, CIFAR-10 Batch 3:  Loss:     0.7354 Validation Accuracy: 0.636000\n",
      "Epoch 13, CIFAR-10 Batch 4:  Loss:     0.7293 Validation Accuracy: 0.659000\n",
      "Epoch 13, CIFAR-10 Batch 5:  Loss:     0.6854 Validation Accuracy: 0.663800\n",
      "Epoch 14, CIFAR-10 Batch 1:  Loss:     0.7864 Validation Accuracy: 0.660200\n",
      "Epoch 14, CIFAR-10 Batch 2:  Loss:     0.7524 Validation Accuracy: 0.647800\n",
      "Epoch 14, CIFAR-10 Batch 3:  Loss:     0.7140 Validation Accuracy: 0.644200\n",
      "Epoch 14, CIFAR-10 Batch 4:  Loss:     0.6980 Validation Accuracy: 0.664400\n",
      "Epoch 14, CIFAR-10 Batch 5:  Loss:     0.6524 Validation Accuracy: 0.667600\n",
      "Epoch 15, CIFAR-10 Batch 1:  Loss:     0.7531 Validation Accuracy: 0.665200\n",
      "Epoch 15, CIFAR-10 Batch 2:  Loss:     0.7214 Validation Accuracy: 0.654400\n",
      "Epoch 15, CIFAR-10 Batch 3:  Loss:     0.7011 Validation Accuracy: 0.640000\n",
      "Epoch 15, CIFAR-10 Batch 4:  Loss:     0.6934 Validation Accuracy: 0.662000\n",
      "Epoch 15, CIFAR-10 Batch 5:  Loss:     0.6297 Validation Accuracy: 0.673600\n",
      "Epoch 16, CIFAR-10 Batch 1:  Loss:     0.7498 Validation Accuracy: 0.671400\n",
      "Epoch 16, CIFAR-10 Batch 2:  Loss:     0.7007 Validation Accuracy: 0.656800\n",
      "Epoch 16, CIFAR-10 Batch 3:  Loss:     0.6722 Validation Accuracy: 0.653000\n",
      "Epoch 16, CIFAR-10 Batch 4:  Loss:     0.6698 Validation Accuracy: 0.663200\n",
      "Epoch 16, CIFAR-10 Batch 5:  Loss:     0.6008 Validation Accuracy: 0.678600\n",
      "Epoch 17, CIFAR-10 Batch 1:  Loss:     0.7185 Validation Accuracy: 0.671600\n",
      "Epoch 17, CIFAR-10 Batch 2:  Loss:     0.6480 Validation Accuracy: 0.671800\n",
      "Epoch 17, CIFAR-10 Batch 3:  Loss:     0.6437 Validation Accuracy: 0.658600\n",
      "Epoch 17, CIFAR-10 Batch 4:  Loss:     0.6452 Validation Accuracy: 0.674800\n",
      "Epoch 17, CIFAR-10 Batch 5:  Loss:     0.5996 Validation Accuracy: 0.673400\n",
      "Epoch 18, CIFAR-10 Batch 1:  Loss:     0.6988 Validation Accuracy: 0.675600\n",
      "Epoch 18, CIFAR-10 Batch 2:  Loss:     0.6388 Validation Accuracy: 0.665000\n",
      "Epoch 18, CIFAR-10 Batch 3:  Loss:     0.6301 Validation Accuracy: 0.660200\n",
      "Epoch 18, CIFAR-10 Batch 4:  Loss:     0.6251 Validation Accuracy: 0.666800\n",
      "Epoch 18, CIFAR-10 Batch 5:  Loss:     0.5802 Validation Accuracy: 0.672000\n",
      "Epoch 19, CIFAR-10 Batch 1:  Loss:     0.6663 Validation Accuracy: 0.681600\n",
      "Epoch 19, CIFAR-10 Batch 2:  Loss:     0.6034 Validation Accuracy: 0.669400\n",
      "Epoch 19, CIFAR-10 Batch 3:  Loss:     0.5865 Validation Accuracy: 0.675400\n",
      "Epoch 19, CIFAR-10 Batch 4:  Loss:     0.5923 Validation Accuracy: 0.678400\n",
      "Epoch 19, CIFAR-10 Batch 5:  Loss:     0.5443 Validation Accuracy: 0.684400\n",
      "Epoch 20, CIFAR-10 Batch 1:  Loss:     0.6435 Validation Accuracy: 0.686000\n",
      "Epoch 20, CIFAR-10 Batch 2:  Loss:     0.5892 Validation Accuracy: 0.675800\n",
      "Epoch 20, CIFAR-10 Batch 3:  Loss:     0.5512 Validation Accuracy: 0.686200\n",
      "Epoch 20, CIFAR-10 Batch 4:  Loss:     0.5626 Validation Accuracy: 0.684600\n",
      "Epoch 20, CIFAR-10 Batch 5:  Loss:     0.5360 Validation Accuracy: 0.674400\n",
      "Epoch 21, CIFAR-10 Batch 1:  Loss:     0.6304 Validation Accuracy: 0.682800\n",
      "Epoch 21, CIFAR-10 Batch 2:  Loss:     0.5825 Validation Accuracy: 0.674800\n",
      "Epoch 21, CIFAR-10 Batch 3:  Loss:     0.5184 Validation Accuracy: 0.687200\n",
      "Epoch 21, CIFAR-10 Batch 4:  Loss:     0.5330 Validation Accuracy: 0.679600\n",
      "Epoch 21, CIFAR-10 Batch 5:  Loss:     0.4925 Validation Accuracy: 0.689200\n",
      "Epoch 22, CIFAR-10 Batch 1:  Loss:     0.5908 Validation Accuracy: 0.688600\n",
      "Epoch 22, CIFAR-10 Batch 2:  Loss:     0.5550 Validation Accuracy: 0.676800\n",
      "Epoch 22, CIFAR-10 Batch 3:  Loss:     0.5081 Validation Accuracy: 0.689800\n",
      "Epoch 22, CIFAR-10 Batch 4:  Loss:     0.5252 Validation Accuracy: 0.691400\n",
      "Epoch 22, CIFAR-10 Batch 5:  Loss:     0.4777 Validation Accuracy: 0.693200\n",
      "Epoch 23, CIFAR-10 Batch 1:  Loss:     0.5544 Validation Accuracy: 0.688600\n",
      "Epoch 23, CIFAR-10 Batch 2:  Loss:     0.5391 Validation Accuracy: 0.685200\n",
      "Epoch 23, CIFAR-10 Batch 3:  Loss:     0.4774 Validation Accuracy: 0.693600\n",
      "Epoch 23, CIFAR-10 Batch 4:  Loss:     0.4957 Validation Accuracy: 0.695600\n",
      "Epoch 23, CIFAR-10 Batch 5:  Loss:     0.4448 Validation Accuracy: 0.695000\n",
      "Epoch 24, CIFAR-10 Batch 1:  Loss:     0.5428 Validation Accuracy: 0.694800\n",
      "Epoch 24, CIFAR-10 Batch 2:  Loss:     0.5256 Validation Accuracy: 0.683000\n",
      "Epoch 24, CIFAR-10 Batch 3:  Loss:     0.4724 Validation Accuracy: 0.687600\n",
      "Epoch 24, CIFAR-10 Batch 4:  Loss:     0.4754 Validation Accuracy: 0.694000\n",
      "Epoch 24, CIFAR-10 Batch 5:  Loss:     0.4244 Validation Accuracy: 0.697400\n",
      "Epoch 25, CIFAR-10 Batch 1:  Loss:     0.5098 Validation Accuracy: 0.694800\n",
      "Epoch 25, CIFAR-10 Batch 2:  Loss:     0.5015 Validation Accuracy: 0.688400\n",
      "Epoch 25, CIFAR-10 Batch 3:  Loss:     0.4456 Validation Accuracy: 0.698000\n",
      "Epoch 25, CIFAR-10 Batch 4:  Loss:     0.4782 Validation Accuracy: 0.696600\n",
      "Epoch 25, CIFAR-10 Batch 5:  Loss:     0.4031 Validation Accuracy: 0.700000\n",
      "Epoch 26, CIFAR-10 Batch 1:  Loss:     0.4996 Validation Accuracy: 0.696200\n",
      "Epoch 26, CIFAR-10 Batch 2:  Loss:     0.4874 Validation Accuracy: 0.689600\n",
      "Epoch 26, CIFAR-10 Batch 3:  Loss:     0.4364 Validation Accuracy: 0.698200\n",
      "Epoch 26, CIFAR-10 Batch 4:  Loss:     0.4446 Validation Accuracy: 0.696400\n",
      "Epoch 26, CIFAR-10 Batch 5:  Loss:     0.4012 Validation Accuracy: 0.696200\n",
      "Epoch 27, CIFAR-10 Batch 1:  Loss:     0.5029 Validation Accuracy: 0.695000\n",
      "Epoch 27, CIFAR-10 Batch 2:  Loss:     0.4742 Validation Accuracy: 0.683800\n",
      "Epoch 27, CIFAR-10 Batch 3:  Loss:     0.4200 Validation Accuracy: 0.703600\n",
      "Epoch 27, CIFAR-10 Batch 4:  Loss:     0.4275 Validation Accuracy: 0.704200\n",
      "Epoch 27, CIFAR-10 Batch 5:  Loss:     0.3818 Validation Accuracy: 0.695600\n",
      "Epoch 28, CIFAR-10 Batch 1:  Loss:     0.4840 Validation Accuracy: 0.694600\n",
      "Epoch 28, CIFAR-10 Batch 2:  Loss:     0.4553 Validation Accuracy: 0.690000\n",
      "Epoch 28, CIFAR-10 Batch 3:  Loss:     0.4194 Validation Accuracy: 0.688400\n",
      "Epoch 28, CIFAR-10 Batch 4:  Loss:     0.4325 Validation Accuracy: 0.695000\n",
      "Epoch 28, CIFAR-10 Batch 5:  Loss:     0.3681 Validation Accuracy: 0.693800\n",
      "Epoch 29, CIFAR-10 Batch 1:  Loss:     0.4838 Validation Accuracy: 0.690600\n",
      "Epoch 29, CIFAR-10 Batch 2:  Loss:     0.4331 Validation Accuracy: 0.682600\n",
      "Epoch 29, CIFAR-10 Batch 3:  Loss:     0.4028 Validation Accuracy: 0.691600\n",
      "Epoch 29, CIFAR-10 Batch 4:  Loss:     0.4068 Validation Accuracy: 0.701800\n",
      "Epoch 29, CIFAR-10 Batch 5:  Loss:     0.3626 Validation Accuracy: 0.688600\n",
      "Epoch 30, CIFAR-10 Batch 1:  Loss:     0.4695 Validation Accuracy: 0.687600\n",
      "Epoch 30, CIFAR-10 Batch 2:  Loss:     0.4261 Validation Accuracy: 0.688000\n",
      "Epoch 30, CIFAR-10 Batch 3:  Loss:     0.3981 Validation Accuracy: 0.687200\n",
      "Epoch 30, CIFAR-10 Batch 4:  Loss:     0.4111 Validation Accuracy: 0.700200\n",
      "Epoch 30, CIFAR-10 Batch 5:  Loss:     0.3605 Validation Accuracy: 0.694800\n",
      "Epoch 31, CIFAR-10 Batch 1:  Loss:     0.4463 Validation Accuracy: 0.690000\n",
      "Epoch 31, CIFAR-10 Batch 2:  Loss:     0.4027 Validation Accuracy: 0.686800\n",
      "Epoch 31, CIFAR-10 Batch 3:  Loss:     0.3822 Validation Accuracy: 0.696200\n",
      "Epoch 31, CIFAR-10 Batch 4:  Loss:     0.3754 Validation Accuracy: 0.700200\n",
      "Epoch 31, CIFAR-10 Batch 5:  Loss:     0.3173 Validation Accuracy: 0.697600\n",
      "Epoch 32, CIFAR-10 Batch 1:  Loss:     0.3948 Validation Accuracy: 0.700400\n",
      "Epoch 32, CIFAR-10 Batch 2:  Loss:     0.3878 Validation Accuracy: 0.690200\n",
      "Epoch 32, CIFAR-10 Batch 3:  Loss:     0.3518 Validation Accuracy: 0.701400\n",
      "Epoch 32, CIFAR-10 Batch 4:  Loss:     0.3865 Validation Accuracy: 0.698200\n",
      "Epoch 32, CIFAR-10 Batch 5:  Loss:     0.3125 Validation Accuracy: 0.697800\n",
      "Epoch 33, CIFAR-10 Batch 1:  Loss:     0.3816 Validation Accuracy: 0.695000\n",
      "Epoch 33, CIFAR-10 Batch 2:  Loss:     0.3850 Validation Accuracy: 0.692000\n",
      "Epoch 33, CIFAR-10 Batch 3:  Loss:     0.3338 Validation Accuracy: 0.698200\n",
      "Epoch 33, CIFAR-10 Batch 4:  Loss:     0.3504 Validation Accuracy: 0.703400\n",
      "Epoch 33, CIFAR-10 Batch 5:  Loss:     0.3002 Validation Accuracy: 0.705800\n",
      "Epoch 34, CIFAR-10 Batch 1:  Loss:     0.3656 Validation Accuracy: 0.705400\n",
      "Epoch 34, CIFAR-10 Batch 2:  Loss:     0.3655 Validation Accuracy: 0.688800\n",
      "Epoch 34, CIFAR-10 Batch 3:  Loss:     0.3226 Validation Accuracy: 0.698600\n",
      "Epoch 34, CIFAR-10 Batch 4:  Loss:     0.3387 Validation Accuracy: 0.699600\n",
      "Epoch 34, CIFAR-10 Batch 5:  Loss:     0.3004 Validation Accuracy: 0.701400\n",
      "Epoch 35, CIFAR-10 Batch 1:  Loss:     0.3662 Validation Accuracy: 0.697600\n",
      "Epoch 35, CIFAR-10 Batch 2:  Loss:     0.3401 Validation Accuracy: 0.694000\n",
      "Epoch 35, CIFAR-10 Batch 3:  Loss:     0.3178 Validation Accuracy: 0.703000\n",
      "Epoch 35, CIFAR-10 Batch 4:  Loss:     0.3351 Validation Accuracy: 0.697400\n",
      "Epoch 35, CIFAR-10 Batch 5:  Loss:     0.2946 Validation Accuracy: 0.703400\n",
      "Epoch 36, CIFAR-10 Batch 1:  Loss:     0.3553 Validation Accuracy: 0.697800\n",
      "Epoch 36, CIFAR-10 Batch 2:  Loss:     0.3326 Validation Accuracy: 0.694800\n",
      "Epoch 36, CIFAR-10 Batch 3:  Loss:     0.3158 Validation Accuracy: 0.701000\n",
      "Epoch 36, CIFAR-10 Batch 4:  Loss:     0.3244 Validation Accuracy: 0.694000\n",
      "Epoch 36, CIFAR-10 Batch 5:  Loss:     0.2937 Validation Accuracy: 0.699800\n",
      "Epoch 37, CIFAR-10 Batch 1:  Loss:     0.3295 Validation Accuracy: 0.708200\n",
      "Epoch 37, CIFAR-10 Batch 2:  Loss:     0.3317 Validation Accuracy: 0.689200\n",
      "Epoch 37, CIFAR-10 Batch 3:  Loss:     0.2958 Validation Accuracy: 0.700400\n",
      "Epoch 37, CIFAR-10 Batch 4:  Loss:     0.3118 Validation Accuracy: 0.688600\n",
      "Epoch 37, CIFAR-10 Batch 5:  Loss:     0.2718 Validation Accuracy: 0.699800\n",
      "Epoch 38, CIFAR-10 Batch 1:  Loss:     0.3216 Validation Accuracy: 0.700800\n",
      "Epoch 38, CIFAR-10 Batch 2:  Loss:     0.3079 Validation Accuracy: 0.698400\n",
      "Epoch 38, CIFAR-10 Batch 3:  Loss:     0.2690 Validation Accuracy: 0.704200\n",
      "Epoch 38, CIFAR-10 Batch 4:  Loss:     0.2966 Validation Accuracy: 0.695800\n",
      "Epoch 38, CIFAR-10 Batch 5:  Loss:     0.2484 Validation Accuracy: 0.709600\n",
      "Epoch 39, CIFAR-10 Batch 1:  Loss:     0.3119 Validation Accuracy: 0.698000\n",
      "Epoch 39, CIFAR-10 Batch 2:  Loss:     0.3048 Validation Accuracy: 0.691200\n",
      "Epoch 39, CIFAR-10 Batch 3:  Loss:     0.2745 Validation Accuracy: 0.695600\n",
      "Epoch 39, CIFAR-10 Batch 4:  Loss:     0.2798 Validation Accuracy: 0.691800\n",
      "Epoch 39, CIFAR-10 Batch 5:  Loss:     0.2470 Validation Accuracy: 0.705600\n",
      "Epoch 40, CIFAR-10 Batch 1:  Loss:     0.2907 Validation Accuracy: 0.699200\n",
      "Epoch 40, CIFAR-10 Batch 2:  Loss:     0.2943 Validation Accuracy: 0.696000\n",
      "Epoch 40, CIFAR-10 Batch 3:  Loss:     0.2565 Validation Accuracy: 0.698200\n",
      "Epoch 40, CIFAR-10 Batch 4:  Loss:     0.2836 Validation Accuracy: 0.689600\n",
      "Epoch 40, CIFAR-10 Batch 5:  Loss:     0.2249 Validation Accuracy: 0.706200\n",
      "Epoch 41, CIFAR-10 Batch 1:  Loss:     0.2913 Validation Accuracy: 0.700400\n",
      "Epoch 41, CIFAR-10 Batch 2:  Loss:     0.2658 Validation Accuracy: 0.698200\n",
      "Epoch 41, CIFAR-10 Batch 3:  Loss:     0.2307 Validation Accuracy: 0.701400\n",
      "Epoch 41, CIFAR-10 Batch 4:  Loss:     0.2758 Validation Accuracy: 0.690600\n",
      "Epoch 41, CIFAR-10 Batch 5:  Loss:     0.2155 Validation Accuracy: 0.710600\n",
      "Epoch 42, CIFAR-10 Batch 1:  Loss:     0.2678 Validation Accuracy: 0.694200\n",
      "Epoch 42, CIFAR-10 Batch 2:  Loss:     0.2530 Validation Accuracy: 0.698400\n",
      "Epoch 42, CIFAR-10 Batch 3:  Loss:     0.2275 Validation Accuracy: 0.697400\n",
      "Epoch 42, CIFAR-10 Batch 4:  Loss:     0.2743 Validation Accuracy: 0.678000\n",
      "Epoch 42, CIFAR-10 Batch 5:  Loss:     0.2064 Validation Accuracy: 0.713800\n",
      "Epoch 43, CIFAR-10 Batch 1:  Loss:     0.2777 Validation Accuracy: 0.687000\n",
      "Epoch 43, CIFAR-10 Batch 2:  Loss:     0.2682 Validation Accuracy: 0.688600\n",
      "Epoch 43, CIFAR-10 Batch 3:  Loss:     0.2238 Validation Accuracy: 0.697600\n",
      "Epoch 43, CIFAR-10 Batch 4:  Loss:     0.2428 Validation Accuracy: 0.688600\n",
      "Epoch 43, CIFAR-10 Batch 5:  Loss:     0.1998 Validation Accuracy: 0.709800\n",
      "Epoch 44, CIFAR-10 Batch 1:  Loss:     0.2731 Validation Accuracy: 0.684400\n",
      "Epoch 44, CIFAR-10 Batch 2:  Loss:     0.2600 Validation Accuracy: 0.689200\n",
      "Epoch 44, CIFAR-10 Batch 3:  Loss:     0.2378 Validation Accuracy: 0.692200\n",
      "Epoch 44, CIFAR-10 Batch 4:  Loss:     0.2364 Validation Accuracy: 0.690800\n",
      "Epoch 44, CIFAR-10 Batch 5:  Loss:     0.2014 Validation Accuracy: 0.710200\n",
      "Epoch 45, CIFAR-10 Batch 1:  Loss:     0.2741 Validation Accuracy: 0.687600\n",
      "Epoch 45, CIFAR-10 Batch 2:  Loss:     0.2480 Validation Accuracy: 0.688400\n",
      "Epoch 45, CIFAR-10 Batch 3:  Loss:     0.2234 Validation Accuracy: 0.692000\n",
      "Epoch 45, CIFAR-10 Batch 4:  Loss:     0.2219 Validation Accuracy: 0.697200\n",
      "Epoch 45, CIFAR-10 Batch 5:  Loss:     0.1971 Validation Accuracy: 0.714400\n",
      "Epoch 46, CIFAR-10 Batch 1:  Loss:     0.2431 Validation Accuracy: 0.693400\n",
      "Epoch 46, CIFAR-10 Batch 2:  Loss:     0.2383 Validation Accuracy: 0.686600\n",
      "Epoch 46, CIFAR-10 Batch 3:  Loss:     0.2269 Validation Accuracy: 0.692600\n",
      "Epoch 46, CIFAR-10 Batch 4:  Loss:     0.2055 Validation Accuracy: 0.701600\n",
      "Epoch 46, CIFAR-10 Batch 5:  Loss:     0.1885 Validation Accuracy: 0.713400\n",
      "Epoch 47, CIFAR-10 Batch 1:  Loss:     0.2480 Validation Accuracy: 0.693400\n",
      "Epoch 47, CIFAR-10 Batch 2:  Loss:     0.2180 Validation Accuracy: 0.700400\n",
      "Epoch 47, CIFAR-10 Batch 3:  Loss:     0.1990 Validation Accuracy: 0.694600\n",
      "Epoch 47, CIFAR-10 Batch 4:  Loss:     0.1899 Validation Accuracy: 0.706200\n",
      "Epoch 47, CIFAR-10 Batch 5:  Loss:     0.1813 Validation Accuracy: 0.712800\n",
      "Epoch 48, CIFAR-10 Batch 1:  Loss:     0.2364 Validation Accuracy: 0.693000\n",
      "Epoch 48, CIFAR-10 Batch 2:  Loss:     0.2037 Validation Accuracy: 0.704200\n",
      "Epoch 48, CIFAR-10 Batch 3:  Loss:     0.1948 Validation Accuracy: 0.690600\n",
      "Epoch 48, CIFAR-10 Batch 4:  Loss:     0.1933 Validation Accuracy: 0.701200\n",
      "Epoch 48, CIFAR-10 Batch 5:  Loss:     0.1674 Validation Accuracy: 0.709800\n",
      "Epoch 49, CIFAR-10 Batch 1:  Loss:     0.2202 Validation Accuracy: 0.700400\n",
      "Epoch 49, CIFAR-10 Batch 2:  Loss:     0.1968 Validation Accuracy: 0.697800\n",
      "Epoch 49, CIFAR-10 Batch 3:  Loss:     0.1970 Validation Accuracy: 0.695000\n",
      "Epoch 49, CIFAR-10 Batch 4:  Loss:     0.1773 Validation Accuracy: 0.704200\n",
      "Epoch 49, CIFAR-10 Batch 5:  Loss:     0.1592 Validation Accuracy: 0.709800\n",
      "Epoch 50, CIFAR-10 Batch 1:  Loss:     0.2182 Validation Accuracy: 0.697000\n",
      "Epoch 50, CIFAR-10 Batch 2:  Loss:     0.2016 Validation Accuracy: 0.694400\n",
      "Epoch 50, CIFAR-10 Batch 3:  Loss:     0.1763 Validation Accuracy: 0.694200\n",
      "Epoch 50, CIFAR-10 Batch 4:  Loss:     0.1822 Validation Accuracy: 0.701200\n",
      "Epoch 50, CIFAR-10 Batch 5:  Loss:     0.1516 Validation Accuracy: 0.716200\n"
     ]
    }
   ],
   "source": [
    "\"\"\"\n",
    "DON'T MODIFY ANYTHING IN THIS CELL\n",
    "\"\"\"\n",
    "save_model_path = './image_classification'\n",
    "\n",
    "print('Training...')\n",
    "with tf.Session() as sess:\n",
    "    # Initializing the variables\n",
    "    sess.run(tf.global_variables_initializer())\n",
    "    \n",
    "    # Training cycle\n",
    "    for epoch in range(epochs):\n",
    "        # Loop over all batches\n",
    "        n_batches = 5\n",
    "        for batch_i in range(1, n_batches + 1):\n",
    "            for batch_features, batch_labels in helper.load_preprocess_training_batch(batch_i, batch_size):\n",
    "                train_neural_network(sess, optimizer, keep_probability, batch_features, batch_labels)\n",
    "            print('Epoch {:>2}, CIFAR-10 Batch {}:  '.format(epoch + 1, batch_i), end='')\n",
    "            print_stats(sess, batch_features, batch_labels, cost, accuracy)\n",
    "            \n",
    "    # Save Model\n",
    "    saver = tf.train.Saver()\n",
    "    save_path = saver.save(sess, save_model_path)"
   ]
  },
  {
   "cell_type": "markdown",
   "metadata": {
    "deletable": true,
    "editable": true
   },
   "source": [
    "# Checkpoint\n",
    "The model has been saved to disk.\n",
    "## Test Model\n",
    "Test your model against the test dataset.  This will be your final accuracy. You should have an accuracy greater than 50%. If you don't, keep tweaking the model architecture and parameters."
   ]
  },
  {
   "cell_type": "code",
   "execution_count": 26,
   "metadata": {
    "collapsed": false,
    "deletable": true,
    "editable": true
   },
   "outputs": [
    {
     "name": "stdout",
     "output_type": "stream",
     "text": [
      "Testing Accuracy: 0.703366270661354\n",
      "\n"
     ]
    },
    {
     "data": {
      "image/png": "[encoded data removed]",
      "text/plain": [
       "<matplotlib.figure.Figure at 0x7f1829b8c828>"
      ]
     },
     "metadata": {
      "image/png": {
       "height": 319,
       "width": 355
      }
     },
     "output_type": "display_data"
    }
   ],
   "source": [
    "\"\"\"\n",
    "DON'T MODIFY ANYTHING IN THIS CELL\n",
    "\"\"\"\n",
    "%matplotlib inline\n",
    "%config InlineBackend.figure_format = 'retina'\n",
    "\n",
    "import tensorflow as tf\n",
    "import pickle\n",
    "import helper\n",
    "import random\n",
    "\n",
    "# Set batch size if not already set\n",
    "try:\n",
    "    if batch_size:\n",
    "        pass\n",
    "except NameError:\n",
    "    batch_size = 64\n",
    "\n",
    "save_model_path = './image_classification'\n",
    "n_samples = 4\n",
    "top_n_predictions = 3\n",
    "\n",
    "def test_model():\n",
    "    \"\"\"\n",
    "    Test the saved model against the test dataset\n",
    "    \"\"\"\n",
    "\n",
    "    test_features, test_labels = pickle.load(open('preprocess_test.p', mode='rb'))\n",
    "    loaded_graph = tf.Graph()\n",
    "\n",
    "    with tf.Session(graph=loaded_graph) as sess:\n",
    "        # Load model\n",
    "        loader = tf.train.import_meta_graph(save_model_path + '.meta')\n",
    "        loader.restore(sess, save_model_path)\n",
    "\n",
    "        # Get Tensors from loaded model\n",
    "        loaded_x = loaded_graph.get_tensor_by_name('x:0')\n",
    "        loaded_y = loaded_graph.get_tensor_by_name('y:0')\n",
    "        loaded_keep_prob = loaded_graph.get_tensor_by_name('keep_prob:0')\n",
    "        loaded_logits = loaded_graph.get_tensor_by_name('logits:0')\n",
    "        loaded_acc = loaded_graph.get_tensor_by_name('accuracy:0')\n",
    "        \n",
    "        # Get accuracy in batches for memory limitations\n",
    "        test_batch_acc_total = 0\n",
    "        test_batch_count = 0\n",
    "        \n",
    "        for test_feature_batch, test_label_batch in helper.batch_features_labels(test_features, test_labels, batch_size):\n",
    "            test_batch_acc_total += sess.run(\n",
    "                loaded_acc,\n",
    "                feed_dict={loaded_x: test_feature_batch, loaded_y: test_label_batch, loaded_keep_prob: 1.0})\n",
    "            test_batch_count += 1\n",
    "\n",
    "        print('Testing Accuracy: {}\\n'.format(test_batch_acc_total/test_batch_count))\n",
    "\n",
    "        # Print Random Samples\n",
    "        random_test_features, random_test_labels = tuple(zip(*random.sample(list(zip(test_features, test_labels)), n_samples)))\n",
    "        random_test_predictions = sess.run(\n",
    "            tf.nn.top_k(tf.nn.softmax(loaded_logits), top_n_predictions),\n",
    "            feed_dict={loaded_x: random_test_features, loaded_y: random_test_labels, loaded_keep_prob: 1.0})\n",
    "        helper.display_image_predictions(random_test_features, random_test_labels, random_test_predictions)\n",
    "\n",
    "\n",
    "test_model()"
   ]
  },
  {
   "cell_type": "markdown",
   "metadata": {
    "deletable": true,
    "editable": true
   },
   "source": [
    "## Why 50-80% Accuracy?\n",
    "You might be wondering why you can't get an accuracy any higher. First things first, 50% isn't bad for a simple CNN.  Pure guessing would get you 10% accuracy. However, you might notice people are getting scores [well above 80%](http://rodrigob.github.io/are_we_there_yet/build/classification_datasets_results.html#43494641522d3130).  That's because we haven't taught you all there is to know about neural networks. We still need to cover a few more techniques.\n",
    "## Submitting This Project\n",
    "When submitting this project, make sure to run all the cells before saving the notebook.  Save the notebook file as \"dlnd_image_classification.ipynb\" and save it as a HTML file under \"File\" -> \"Download as\".  Include the \"helper.py\" and \"problem_unittests.py\" files in your submission."
   ]
  }
 ],
 "metadata": {
  "kernelspec": {
   "display_name": "Python 3",
   "language": "python",
   "name": "python3"
  },
  "language_info": {
   "codemirror_mode": {
    "name": "ipython",
    "version": 3
   },
   "file_extension": ".py",
   "mimetype": "text/x-python",
   "name": "python",
   "nbconvert_exporter": "python",
   "pygments_lexer": "ipython3",
   "version": "3.5.3"
  }
 },
 "nbformat": 4,
 "nbformat_minor": 0
}
