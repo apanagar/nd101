{
 "cells": [
  {
   "cell_type": "markdown",
   "metadata": {
    "collapsed": true,
    "deletable": true,
    "editable": true
   },
   "source": [
    "# Image Classification\n",
    "In this project, you'll classify images from the [CIFAR-10 dataset](https://www.cs.toronto.edu/~kriz/cifar.html).  The dataset consists of airplanes, dogs, cats, and other objects. You'll preprocess the images, then train a convolutional neural network on all the samples. The images need to be normalized and the labels need to be one-hot encoded.  You'll get to apply what you learned and build a convolutional, max pooling, dropout, and fully connected layers.  At the end, you'll get to see your neural network's predictions on the sample images.\n",
    "## Get the Data\n",
    "Run the following cell to download the [CIFAR-10 dataset for python](https://www.cs.toronto.edu/~kriz/cifar-10-python.tar.gz)."
   ]
  },
  {
   "cell_type": "code",
   "execution_count": 1,
   "metadata": {
    "collapsed": false,
    "deletable": true,
    "editable": true
   },
   "outputs": [
    {
     "name": "stdout",
     "output_type": "stream",
     "text": [
      "All files found!\n"
     ]
    }
   ],
   "source": [
    "\"\"\"\n",
    "DON'T MODIFY ANYTHING IN THIS CELL THAT IS BELOW THIS LINE\n",
    "\"\"\"\n",
    "from urllib.request import urlretrieve\n",
    "from os.path import isfile, isdir\n",
    "from tqdm import tqdm\n",
    "import problem_unittests as tests\n",
    "import tarfile\n",
    "\n",
    "cifar10_dataset_folder_path = 'cifar-10-batches-py'\n",
    "\n",
    "# Use Floyd's cifar-10 dataset if present\n",
    "floyd_cifar10_location = '/input/cifar-10/python.tar.gz'\n",
    "if isfile(floyd_cifar10_location):\n",
    "    tar_gz_path = floyd_cifar10_location\n",
    "else:\n",
    "    tar_gz_path = 'cifar-10-python.tar.gz'\n",
    "\n",
    "class DLProgress(tqdm):\n",
    "    last_block = 0\n",
    "\n",
    "    def hook(self, block_num=1, block_size=1, total_size=None):\n",
    "        self.total = total_size\n",
    "        self.update((block_num - self.last_block) * block_size)\n",
    "        self.last_block = block_num\n",
    "\n",
    "if not isfile(tar_gz_path):\n",
    "    with DLProgress(unit='B', unit_scale=True, miniters=1, desc='CIFAR-10 Dataset') as pbar:\n",
    "        urlretrieve(\n",
    "            'https://www.cs.toronto.edu/~kriz/cifar-10-python.tar.gz',\n",
    "            tar_gz_path,\n",
    "            pbar.hook)\n",
    "\n",
    "if not isdir(cifar10_dataset_folder_path):\n",
    "    with tarfile.open(tar_gz_path) as tar:\n",
    "        tar.extractall()\n",
    "        tar.close()\n",
    "\n",
    "\n",
    "tests.test_folder_path(cifar10_dataset_folder_path)"
   ]
  },
  {
   "cell_type": "markdown",
   "metadata": {
    "deletable": true,
    "editable": true
   },
   "source": [
    "## Explore the Data\n",
    "The dataset is broken into batches to prevent your machine from running out of memory.  The CIFAR-10 dataset consists of 5 batches, named `data_batch_1`, `data_batch_2`, etc.. Each batch contains the labels and images that are one of the following:\n",
    "* airplane\n",
    "* automobile\n",
    "* bird\n",
    "* cat\n",
    "* deer\n",
    "* dog\n",
    "* frog\n",
    "* horse\n",
    "* ship\n",
    "* truck\n",
    "\n",
    "Understanding a dataset is part of making predictions on the data.  Play around with the code cell below by changing the `batch_id` and `sample_id`. The `batch_id` is the id for a batch (1-5). The `sample_id` is the id for a image and label pair in the batch.\n",
    "\n",
    "Ask yourself \"What are all possible labels?\", \"What is the range of values for the image data?\", \"Are the labels in order or random?\".  Answers to questions like these will help you preprocess the data and end up with better predictions."
   ]
  },
  {
   "cell_type": "code",
   "execution_count": 2,
   "metadata": {
    "collapsed": false,
    "deletable": true,
    "editable": true
   },
   "outputs": [
    {
     "name": "stdout",
     "output_type": "stream",
     "text": [
      "\n",
      "Stats of batch 1:\n",
      "Samples: 10000\n",
      "Label Counts: {0: 1005, 1: 974, 2: 1032, 3: 1016, 4: 999, 5: 937, 6: 1030, 7: 1001, 8: 1025, 9: 981}\n",
      "First 20 Labels: [6, 9, 9, 4, 1, 1, 2, 7, 8, 3, 4, 7, 7, 2, 9, 9, 9, 3, 2, 6]\n",
      "\n",
      "Example of Image 5:\n",
      "Image - Min Value: 0 Max Value: 252\n",
      "Image - Shape: (32, 32, 3)\n",
      "Label - Label Id: 1 Name: automobile\n"
     ]
    },
    {
     "data": {
      "image/png": "[encoded data removed]",
      "text/plain": [
       "<matplotlib.figure.Figure at 0x7f610aa4cc50>"
      ]
     },
     "metadata": {
      "image/png": {
       "height": 250,
       "width": 253
      }
     },
     "output_type": "display_data"
    }
   ],
   "source": [
    "%matplotlib inline\n",
    "%config InlineBackend.figure_format = 'retina'\n",
    "\n",
    "import helper\n",
    "import numpy as np\n",
    "\n",
    "# Explore the dataset\n",
    "batch_id = 1\n",
    "sample_id = 5\n",
    "helper.display_stats(cifar10_dataset_folder_path, batch_id, sample_id)"
   ]
  },
  {
   "cell_type": "markdown",
   "metadata": {
    "deletable": true,
    "editable": true
   },
   "source": [
    "## Implement Preprocess Functions\n",
    "### Normalize\n",
    "In the cell below, implement the `normalize` function to take in image data, `x`, and return it as a normalized Numpy array. The values should be in the range of 0 to 1, inclusive.  The return object should be the same shape as `x`."
   ]
  },
  {
   "cell_type": "code",
   "execution_count": 3,
   "metadata": {
    "collapsed": false,
    "deletable": true,
    "editable": true
   },
   "outputs": [
    {
     "name": "stdout",
     "output_type": "stream",
     "text": [
      "Tests Passed\n"
     ]
    }
   ],
   "source": [
    "def normalize(x):\n",
    "    \"\"\"\n",
    "    Normalize a list of sample image data in the range of 0 to 1\n",
    "    : x: List of image data.  The image shape is (32, 32, 3)\n",
    "    : return: Numpy array of normalize data\n",
    "    \"\"\"\n",
    "    # TODO: Implement Function\n",
    "    \n",
    "    return x/255.0\n",
    "\n",
    "\"\"\"\n",
    "DON'T MODIFY ANYTHING IN THIS CELL THAT IS BELOW THIS LINE\n",
    "\"\"\"\n",
    "tests.test_normalize(normalize)"
   ]
  },
  {
   "cell_type": "markdown",
   "metadata": {
    "deletable": true,
    "editable": true
   },
   "source": [
    "### One-hot encode\n",
    "Just like the previous code cell, you'll be implementing a function for preprocessing.  This time, you'll implement the `one_hot_encode` function. The input, `x`, are a list of labels.  Implement the function to return the list of labels as One-Hot encoded Numpy array.  The possible values for labels are 0 to 9. The one-hot encoding function should return the same encoding for each value between each call to `one_hot_encode`.  Make sure to save the map of encodings outside the function.\n",
    "\n",
    "Hint: Don't reinvent the wheel."
   ]
  },
  {
   "cell_type": "code",
   "execution_count": 4,
   "metadata": {
    "collapsed": false,
    "deletable": true,
    "editable": true
   },
   "outputs": [
    {
     "name": "stdout",
     "output_type": "stream",
     "text": [
      "Tests Passed\n"
     ]
    }
   ],
   "source": [
    "def one_hot_encode(x):\n",
    "    \"\"\"\n",
    "    One hot encode a list of sample labels. Return a one-hot encoded vector for each label.\n",
    "    : x: List of sample Labels\n",
    "    : return: Numpy array of one-hot encoded labels\n",
    "    \"\"\"\n",
    "    # TODO: Implement Function\n",
    "    one_hot = np.zeros((len(x), 10))\n",
    "    for i in range(len(x)):\n",
    "        one_hot[i,x[i]] = 1\n",
    "    return one_hot\n",
    "\n",
    "\"\"\"\n",
    "DON'T MODIFY ANYTHING IN THIS CELL THAT IS BELOW THIS LINE\n",
    "\"\"\"\n",
    "tests.test_one_hot_encode(one_hot_encode)"
   ]
  },
  {
   "cell_type": "markdown",
   "metadata": {
    "deletable": true,
    "editable": true
   },
   "source": [
    "### Randomize Data\n",
    "As you saw from exploring the data above, the order of the samples are randomized.  It doesn't hurt to randomize it again, but you don't need to for this dataset."
   ]
  },
  {
   "cell_type": "markdown",
   "metadata": {
    "deletable": true,
    "editable": true
   },
   "source": [
    "## Preprocess all the data and save it\n",
    "Running the code cell below will preprocess all the CIFAR-10 data and save it to file. The code below also uses 10% of the training data for validation."
   ]
  },
  {
   "cell_type": "code",
   "execution_count": 5,
   "metadata": {
    "collapsed": false,
    "deletable": true,
    "editable": true
   },
   "outputs": [],
   "source": [
    "\"\"\"\n",
    "DON'T MODIFY ANYTHING IN THIS CELL\n",
    "\"\"\"\n",
    "# Preprocess Training, Validation, and Testing Data\n",
    "helper.preprocess_and_save_data(cifar10_dataset_folder_path, normalize, one_hot_encode)"
   ]
  },
  {
   "cell_type": "markdown",
   "metadata": {
    "deletable": true,
    "editable": true
   },
   "source": [
    "# Check Point\n",
    "This is your first checkpoint.  If you ever decide to come back to this notebook or have to restart the notebook, you can start from here.  The preprocessed data has been saved to disk."
   ]
  },
  {
   "cell_type": "code",
   "execution_count": 6,
   "metadata": {
    "collapsed": true,
    "deletable": true,
    "editable": true
   },
   "outputs": [],
   "source": [
    "\"\"\"\n",
    "DON'T MODIFY ANYTHING IN THIS CELL\n",
    "\"\"\"\n",
    "import pickle\n",
    "import problem_unittests as tests\n",
    "import helper\n",
    "\n",
    "# Load the Preprocessed Validation data\n",
    "valid_features, valid_labels = pickle.load(open('preprocess_validation.p', mode='rb'))"
   ]
  },
  {
   "cell_type": "markdown",
   "metadata": {
    "deletable": true,
    "editable": true
   },
   "source": [
    "## Build the network\n",
    "For the neural network, you'll build each layer into a function.  Most of the code you've seen has been outside of functions. To test your code more thoroughly, we require that you put each layer in a function.  This allows us to give you better feedback and test for simple mistakes using our unittests before you submit your project.\n",
    "\n",
    ">**Note:** If you're finding it hard to dedicate enough time for this course each week, we've provided a small shortcut to this part of the project. In the next couple of problems, you'll have the option to use classes from the [TensorFlow Layers](https://www.tensorflow.org/api_docs/python/tf/layers) or [TensorFlow Layers (contrib)](https://www.tensorflow.org/api_guides/python/contrib.layers) packages to build each layer, except the layers you build in the \"Convolutional and Max Pooling Layer\" section.  TF Layers is similar to Keras's and TFLearn's abstraction to layers, so it's easy to pickup.\n",
    "\n",
    ">However, if you would like to get the most out of this course, try to solve all the problems _without_ using anything from the TF Layers packages. You **can** still use classes from other packages that happen to have the same name as ones you find in TF Layers! For example, instead of using the TF Layers version of the `conv2d` class, [tf.layers.conv2d](https://www.tensorflow.org/api_docs/python/tf/layers/conv2d), you would want to use the TF Neural Network version of `conv2d`, [tf.nn.conv2d](https://www.tensorflow.org/api_docs/python/tf/nn/conv2d). \n",
    "\n",
    "Let's begin!\n",
    "\n",
    "### Input\n",
    "The neural network needs to read the image data, one-hot encoded labels, and dropout keep probability. Implement the following functions\n",
    "* Implement `neural_net_image_input`\n",
    " * Return a [TF Placeholder](https://www.tensorflow.org/api_docs/python/tf/placeholder)\n",
    " * Set the shape using `image_shape` with batch size set to `None`.\n",
    " * Name the TensorFlow placeholder \"x\" using the TensorFlow `name` parameter in the [TF Placeholder](https://www.tensorflow.org/api_docs/python/tf/placeholder).\n",
    "* Implement `neural_net_label_input`\n",
    " * Return a [TF Placeholder](https://www.tensorflow.org/api_docs/python/tf/placeholder)\n",
    " * Set the shape using `n_classes` with batch size set to `None`.\n",
    " * Name the TensorFlow placeholder \"y\" using the TensorFlow `name` parameter in the [TF Placeholder](https://www.tensorflow.org/api_docs/python/tf/placeholder).\n",
    "* Implement `neural_net_keep_prob_input`\n",
    " * Return a [TF Placeholder](https://www.tensorflow.org/api_docs/python/tf/placeholder) for dropout keep probability.\n",
    " * Name the TensorFlow placeholder \"keep_prob\" using the TensorFlow `name` parameter in the [TF Placeholder](https://www.tensorflow.org/api_docs/python/tf/placeholder).\n",
    "\n",
    "These names will be used at the end of the project to load your saved model.\n",
    "\n",
    "Note: `None` for shapes in TensorFlow allow for a dynamic size."
   ]
  },
  {
   "cell_type": "code",
   "execution_count": 7,
   "metadata": {
    "collapsed": false,
    "deletable": true,
    "editable": true
   },
   "outputs": [
    {
     "name": "stdout",
     "output_type": "stream",
     "text": [
      "Image Input Tests Passed.\n",
      "Label Input Tests Passed.\n",
      "Keep Prob Tests Passed.\n"
     ]
    }
   ],
   "source": [
    "import tensorflow as tf\n",
    "\n",
    "def neural_net_image_input(image_shape):\n",
    "    \"\"\"\n",
    "    Return a Tensor for a batch of image input\n",
    "    : image_shape: Shape of the images\n",
    "    : return: Tensor for image input.\n",
    "    \"\"\"\n",
    "    # TODO: Implement Function\n",
    "    return tf.placeholder(tf.float32, [None] + list(image_shape), \"x\")\n",
    "\n",
    "\n",
    "def neural_net_label_input(n_classes):\n",
    "    \"\"\"\n",
    "    Return a Tensor for a batch of label input\n",
    "    : n_classes: Number of classes\n",
    "    : return: Tensor for label input.\n",
    "    \"\"\"\n",
    "    # TODO: Implement Function\n",
    "    return tf.placeholder(tf.float32, [None, n_classes], 'y')\n",
    "\n",
    "\n",
    "def neural_net_keep_prob_input():\n",
    "    \"\"\"\n",
    "    Return a Tensor for keep probability\n",
    "    : return: Tensor for keep probability.\n",
    "    \"\"\"\n",
    "    # TODO: Implement Function\n",
    "    return tf.placeholder(tf.float32, None, 'keep_prob')\n",
    "\n",
    "\n",
    "\"\"\"\n",
    "DON'T MODIFY ANYTHING IN THIS CELL THAT IS BELOW THIS LINE\n",
    "\"\"\"\n",
    "tf.reset_default_graph()\n",
    "tests.test_nn_image_inputs(neural_net_image_input)\n",
    "tests.test_nn_label_inputs(neural_net_label_input)\n",
    "tests.test_nn_keep_prob_inputs(neural_net_keep_prob_input)"
   ]
  },
  {
   "cell_type": "markdown",
   "metadata": {
    "deletable": true,
    "editable": true
   },
   "source": [
    "### Convolution and Max Pooling Layer\n",
    "Convolution layers have a lot of success with images. For this code cell, you should implement the function `conv2d_maxpool` to apply convolution then max pooling:\n",
    "* Create the weight and bias using `conv_ksize`, `conv_num_outputs` and the shape of `x_tensor`.\n",
    "* Apply a convolution to `x_tensor` using weight and `conv_strides`.\n",
    " * We recommend you use same padding, but you're welcome to use any padding.\n",
    "* Add bias\n",
    "* Add a nonlinear activation to the convolution.\n",
    "* Apply Max Pooling using `pool_ksize` and `pool_strides`.\n",
    " * We recommend you use same padding, but you're welcome to use any padding.\n",
    "\n",
    "**Note:** You **can't** use [TensorFlow Layers](https://www.tensorflow.org/api_docs/python/tf/layers) or [TensorFlow Layers (contrib)](https://www.tensorflow.org/api_guides/python/contrib.layers) for **this** layer, but you can still use TensorFlow's [Neural Network](https://www.tensorflow.org/api_docs/python/tf/nn) package. You may still use the shortcut option for all the **other** layers."
   ]
  },
  {
   "cell_type": "code",
   "execution_count": 8,
   "metadata": {
    "collapsed": false,
    "deletable": true,
    "editable": true
   },
   "outputs": [
    {
     "name": "stdout",
     "output_type": "stream",
     "text": [
      "Tests Passed\n"
     ]
    }
   ],
   "source": [
    "def conv2d_maxpool(x_tensor, conv_num_outputs, conv_ksize, conv_strides, pool_ksize, pool_strides):\n",
    "    \"\"\"\n",
    "    Apply convolution then max pooling to x_tensor\n",
    "    :param x_tensor: TensorFlow Tensor\n",
    "    :param conv_num_outputs: Number of outputs for the convolutional layer\n",
    "    :param conv_ksize: kernal size 2-D Tuple for the convolutional layer\n",
    "    :param conv_strides: Stride 2-D Tuple for convolution\n",
    "    :param pool_ksize: kernal size 2-D Tuple for pool\n",
    "    :param pool_strides: Stride 2-D Tuple for pool\n",
    "    : return: A tensor that represents convolution and max pooling of x_tensor\n",
    "    \"\"\"\n",
    "    # TODO: Implement Function\n",
    "    dims = x_tensor.get_shape().as_list()\n",
    "    filter_shape = (conv_ksize) + (dims[-1],) + (conv_num_outputs,)\n",
    "    filter_weights = tf.Variable(tf.truncated_normal(filter_shape, mean=0.0, stddev=0.1))\n",
    "    filter_bias = tf.Variable(tf.zeros(conv_num_outputs))\n",
    "    strides = (1,) + conv_strides + (1,)\n",
    "    padding = 'SAME'\n",
    "    conv_layer = tf.nn.conv2d(x_tensor, filter_weights, strides, padding)\n",
    "    conv_layer = tf.nn.bias_add(conv_layer, filter_bias)\n",
    "    conv_layer = tf.nn.relu(conv_layer)\n",
    "    conv_layer = tf.nn.max_pool(conv_layer, \n",
    "                                ksize = (1,) + pool_ksize + (1,), \n",
    "                                strides = (1,) + pool_strides + (1,), \n",
    "                                padding = 'SAME')    \n",
    "    return conv_layer \n",
    "\n",
    "\n",
    "\"\"\"\n",
    "DON'T MODIFY ANYTHING IN THIS CELL THAT IS BELOW THIS LINE\n",
    "\"\"\"\n",
    "tests.test_con_pool(conv2d_maxpool)"
   ]
  },
  {
   "cell_type": "markdown",
   "metadata": {
    "deletable": true,
    "editable": true
   },
   "source": [
    "### Flatten Layer\n",
    "Implement the `flatten` function to change the dimension of `x_tensor` from a 4-D tensor to a 2-D tensor.  The output should be the shape (*Batch Size*, *Flattened Image Size*). Shortcut option: you can use classes from the [TensorFlow Layers](https://www.tensorflow.org/api_docs/python/tf/layers) or [TensorFlow Layers (contrib)](https://www.tensorflow.org/api_guides/python/contrib.layers) packages for this layer. For more of a challenge, only use other TensorFlow packages."
   ]
  },
  {
   "cell_type": "code",
   "execution_count": 9,
   "metadata": {
    "collapsed": false,
    "deletable": true,
    "editable": true
   },
   "outputs": [
    {
     "name": "stdout",
     "output_type": "stream",
     "text": [
      "Tests Passed\n"
     ]
    }
   ],
   "source": [
    "from numpy import product\n",
    "def flatten(x_tensor):\n",
    "    \"\"\"\n",
    "    Flatten x_tensor to (Batch Size, Flattened Image Size)\n",
    "    : x_tensor: A tensor of size (Batch Size, ...), where ... are the image dimensions.\n",
    "    : return: A tensor of size (Batch Size, Flattened Image Size).\n",
    "    \"\"\"\n",
    "    # TODO: Implement Function\n",
    "    dims = x_tensor.get_shape().as_list()\n",
    "    flat_dim = product(dims[1:])\n",
    "    return tf.reshape(x_tensor, [-1, flat_dim] )\n",
    "\n",
    "\n",
    "\"\"\"\n",
    "DON'T MODIFY ANYTHING IN THIS CELL THAT IS BELOW THIS LINE\n",
    "\"\"\"\n",
    "tests.test_flatten(flatten)"
   ]
  },
  {
   "cell_type": "markdown",
   "metadata": {
    "deletable": true,
    "editable": true
   },
   "source": [
    "### Fully-Connected Layer\n",
    "Implement the `fully_conn` function to apply a fully connected layer to `x_tensor` with the shape (*Batch Size*, *num_outputs*). Shortcut option: you can use classes from the [TensorFlow Layers](https://www.tensorflow.org/api_docs/python/tf/layers) or [TensorFlow Layers (contrib)](https://www.tensorflow.org/api_guides/python/contrib.layers) packages for this layer. For more of a challenge, only use other TensorFlow packages."
   ]
  },
  {
   "cell_type": "code",
   "execution_count": 10,
   "metadata": {
    "collapsed": false,
    "deletable": true,
    "editable": true
   },
   "outputs": [
    {
     "name": "stdout",
     "output_type": "stream",
     "text": [
      "Tests Passed\n"
     ]
    }
   ],
   "source": [
    "def fully_conn(x_tensor, num_outputs):\n",
    "    \"\"\"\n",
    "    Apply a fully connected layer to x_tensor using weight and bias\n",
    "    : x_tensor: A 2-D tensor where the first dimension is batch size.\n",
    "    : num_outputs: The number of output that the new tensor should be.\n",
    "    : return: A 2-D tensor where the second dimension is num_outputs.\n",
    "    \"\"\"\n",
    "    # TODO: Implement Function\n",
    "    dimension = x_tensor.get_shape().as_list()\n",
    "    shape = [dimension[-1], num_outputs]\n",
    "    \n",
    "    weights = tf.Variable(tf.truncated_normal(shape, mean = 0.0, stddev = 0.01))\n",
    "    bias = tf.Variable(tf.zeros(num_outputs))\n",
    "    \n",
    "    fully_connected = tf.nn.relu(tf.add(tf.matmul(x_tensor, weights), bias))\n",
    "    \n",
    "    return fully_connected\n",
    "\n",
    "\n",
    "\"\"\"\n",
    "DON'T MODIFY ANYTHING IN THIS CELL THAT IS BELOW THIS LINE\n",
    "\"\"\"\n",
    "tests.test_fully_conn(fully_conn)"
   ]
  },
  {
   "cell_type": "markdown",
   "metadata": {
    "deletable": true,
    "editable": true
   },
   "source": [
    "### Output Layer\n",
    "Implement the `output` function to apply a fully connected layer to `x_tensor` with the shape (*Batch Size*, *num_outputs*). Shortcut option: you can use classes from the [TensorFlow Layers](https://www.tensorflow.org/api_docs/python/tf/layers) or [TensorFlow Layers (contrib)](https://www.tensorflow.org/api_guides/python/contrib.layers) packages for this layer. For more of a challenge, only use other TensorFlow packages.\n",
    "\n",
    "**Note:** Activation, softmax, or cross entropy should **not** be applied to this."
   ]
  },
  {
   "cell_type": "code",
   "execution_count": 11,
   "metadata": {
    "collapsed": false,
    "deletable": true,
    "editable": true
   },
   "outputs": [
    {
     "name": "stdout",
     "output_type": "stream",
     "text": [
      "Tests Passed\n"
     ]
    }
   ],
   "source": [
    "def output(x_tensor, num_outputs):\n",
    "    \"\"\"\n",
    "    Apply a output layer to x_tensor using weight and bias\n",
    "    : x_tensor: A 2-D tensor where the first dimension is batch size.\n",
    "    : num_outputs: The number of output that the new tensor should be.\n",
    "    : return: A 2-D tensor where the second dimension is num_outputs.\n",
    "    \"\"\"\n",
    "    # TODO: Implement Function\n",
    "    dimension = x_tensor.get_shape().as_list()\n",
    "    shape = [dimension[-1], num_outputs]\n",
    "    \n",
    "    weights = tf.Variable(tf.truncated_normal(shape, mean = 0.0, stddev = 0.01))\n",
    "    bias = tf.Variable(tf.zeros(num_outputs))\n",
    "    \n",
    "    output = tf.add(tf.matmul(x_tensor, weights), bias)\n",
    "\n",
    "    return output\n",
    "\n",
    "\n",
    "\"\"\"\n",
    "DON'T MODIFY ANYTHING IN THIS CELL THAT IS BELOW THIS LINE\n",
    "\"\"\"\n",
    "tests.test_output(output)"
   ]
  },
  {
   "cell_type": "markdown",
   "metadata": {
    "deletable": true,
    "editable": true
   },
   "source": [
    "### Create Convolutional Model\n",
    "Implement the function `conv_net` to create a convolutional neural network model. The function takes in a batch of images, `x`, and outputs logits.  Use the layers you created above to create this model:\n",
    "\n",
    "* Apply 1, 2, or 3 Convolution and Max Pool layers\n",
    "* Apply a Flatten Layer\n",
    "* Apply 1, 2, or 3 Fully Connected Layers\n",
    "* Apply an Output Layer\n",
    "* Return the output\n",
    "* Apply [TensorFlow's Dropout](https://www.tensorflow.org/api_docs/python/tf/nn/dropout) to one or more layers in the model using `keep_prob`. "
   ]
  },
  {
   "cell_type": "code",
   "execution_count": 12,
   "metadata": {
    "collapsed": false,
    "deletable": true,
    "editable": true
   },
   "outputs": [
    {
     "name": "stdout",
     "output_type": "stream",
     "text": [
      "Neural Network Built!\n"
     ]
    }
   ],
   "source": [
    "def conv_net(x, keep_prob):\n",
    "    \"\"\"\n",
    "    Create a convolutional neural network model\n",
    "    : x: Placeholder tensor that holds image data.\n",
    "    : keep_prob: Placeholder tensor that hold dropout keep probability.\n",
    "    : return: Tensor that represents logits\n",
    "    \"\"\"\n",
    "    # TODO: Apply 1, 2, or 3 Convolution and Max Pool layers\n",
    "    #    Play around with different number of outputs, kernel size and stride\n",
    "    # Function Definition from Above:\n",
    "    #    conv2d_maxpool(x_tensor, conv_num_outputs, conv_ksize, conv_strides, pool_ksize, pool_strides)\n",
    "    model = conv2d_maxpool(x, conv_num_outputs=20, conv_ksize=(4,4), conv_strides=(1,1), pool_ksize=(8,8), pool_strides = (2,2))\n",
    "#   model = conv2d_maxpool(x, conv_num_outputs=15, conv_ksize=(2,2), conv_strides=(2,2), pool_ksize=(8,8), pool_strides = (2,2))\n",
    "#   model = conv2d_maxpool(x, conv_num_outputs=50, conv_ksize=(4,4), conv_strides=(2,2), pool_ksize=(8,8), pool_strides = (4,4))    \n",
    "\n",
    "  #  model = tf.nn.dropout(model, keep_prob)\n",
    "    # TODO: Apply a Flatten Layer\n",
    "    # Function Definition from Above:\n",
    "    #   flatten(x_tensor)\n",
    "    model = flatten(model)\n",
    "\n",
    "    # TODO: Apply 1, 2, or 3 Fully Connected Layers\n",
    "    #    Play around with different number of outputs\n",
    "    # Function Definition from Above:\n",
    "    #   fully_conn(x_tensor, num_outputs)\n",
    "    model = fully_conn(model, num_outputs = 400)\n",
    " #   model = fully_conn(model, num_outputs = 100)\n",
    "    \n",
    "    model = tf.nn.dropout(model, keep_prob)\n",
    "    # TODO: Apply an Output Layer\n",
    "    #    Set this to the number of classes\n",
    "    # Function Definition from Above:\n",
    "    #   output(x_tensor, num_outputs)\n",
    "    model = output(model, num_outputs = 10)\n",
    "    \n",
    "    # TODO: return output\n",
    "    return model\n",
    "\n",
    "\n",
    "\"\"\"\n",
    "DON'T MODIFY ANYTHING IN THIS CELL THAT IS BELOW THIS LINE\n",
    "\"\"\"\n",
    "\n",
    "##############################\n",
    "## Build the Neural Network ##\n",
    "##############################\n",
    "\n",
    "# Remove previous weights, bias, inputs, etc..\n",
    "tf.reset_default_graph()\n",
    "\n",
    "# Inputs\n",
    "x = neural_net_image_input((32, 32, 3))\n",
    "y = neural_net_label_input(10)\n",
    "keep_prob = neural_net_keep_prob_input()\n",
    "\n",
    "# Model\n",
    "logits = conv_net(x, keep_prob)\n",
    "\n",
    "# Name logits Tensor, so that is can be loaded from disk after training\n",
    "logits = tf.identity(logits, name='logits')\n",
    "\n",
    "# Loss and Optimizer\n",
    "cost = tf.reduce_mean(tf.nn.softmax_cross_entropy_with_logits(logits=logits, labels=y))\n",
    "optimizer = tf.train.AdamOptimizer().minimize(cost)\n",
    "\n",
    "# Accuracy\n",
    "correct_pred = tf.equal(tf.argmax(logits, 1), tf.argmax(y, 1))\n",
    "accuracy = tf.reduce_mean(tf.cast(correct_pred, tf.float32), name='accuracy')\n",
    "\n",
    "tests.test_conv_net(conv_net)"
   ]
  },
  {
   "cell_type": "markdown",
   "metadata": {
    "deletable": true,
    "editable": true
   },
   "source": [
    "## Train the Neural Network\n",
    "### Single Optimization\n",
    "Implement the function `train_neural_network` to do a single optimization.  The optimization should use `optimizer` to optimize in `session` with a `feed_dict` of the following:\n",
    "* `x` for image input\n",
    "* `y` for labels\n",
    "* `keep_prob` for keep probability for dropout\n",
    "\n",
    "This function will be called for each batch, so `tf.global_variables_initializer()` has already been called.\n",
    "\n",
    "Note: Nothing needs to be returned. This function is only optimizing the neural network."
   ]
  },
  {
   "cell_type": "code",
   "execution_count": 13,
   "metadata": {
    "collapsed": false,
    "deletable": true,
    "editable": true
   },
   "outputs": [
    {
     "name": "stdout",
     "output_type": "stream",
     "text": [
      "Tests Passed\n"
     ]
    }
   ],
   "source": [
    "def train_neural_network(session, optimizer, keep_probability, feature_batch, label_batch):\n",
    "    \"\"\"\n",
    "    Optimize the session on a batch of images and labels\n",
    "    : session: Current TensorFlow session\n",
    "    : optimizer: TensorFlow optimizer function\n",
    "    : keep_probability: keep probability\n",
    "    : feature_batch: Batch of Numpy image data\n",
    "    : label_batch: Batch of Numpy label data\n",
    "    \"\"\"\n",
    "    # TODO: Implement Function\n",
    "    session.run(optimizer, feed_dict={x:feature_batch, y:label_batch, keep_prob:keep_probability})\n",
    "\n",
    "\"\"\"\n",
    "DON'T MODIFY ANYTHING IN THIS CELL THAT IS BELOW THIS LINE\n",
    "\"\"\"\n",
    "tests.test_train_nn(train_neural_network)"
   ]
  },
  {
   "cell_type": "markdown",
   "metadata": {
    "deletable": true,
    "editable": true
   },
   "source": [
    "### Show Stats\n",
    "Implement the function `print_stats` to print loss and validation accuracy.  Use the global variables `valid_features` and `valid_labels` to calculate validation accuracy.  Use a keep probability of `1.0` to calculate the loss and validation accuracy."
   ]
  },
  {
   "cell_type": "code",
   "execution_count": 14,
   "metadata": {
    "collapsed": false,
    "deletable": true,
    "editable": true
   },
   "outputs": [],
   "source": [
    "def print_stats(session, feature_batch, label_batch, cost, accuracy):\n",
    "    \"\"\"\n",
    "    Print information about loss and validation accuracy\n",
    "    : session: Current TensorFlow session\n",
    "    : feature_batch: Batch of Numpy image data\n",
    "    : label_batch: Batch of Numpy label data\n",
    "    : cost: TensorFlow cost function\n",
    "    : accuracy: TensorFlow accuracy function\n",
    "    \"\"\"\n",
    "    # TODO: Implement Function\n",
    "    loss = session.run(cost, feed_dict={x:feature_batch, y:label_batch, keep_prob:keep_probability})\n",
    "    valid_acc = session.run(accuracy, feed_dict={x:valid_features, y:valid_labels, keep_prob:keep_probability})\n",
    "    print('Loss: {:>10.4f} Validation Accuracy: {:.6f}'.format(\n",
    "                loss,\n",
    "                valid_acc))"
   ]
  },
  {
   "cell_type": "markdown",
   "metadata": {
    "deletable": true,
    "editable": true
   },
   "source": [
    "### Hyperparameters\n",
    "Tune the following parameters:\n",
    "* Set `epochs` to the number of iterations until the network stops learning or start overfitting\n",
    "* Set `batch_size` to the highest number that your machine has memory for.  Most people set them to common sizes of memory:\n",
    " * 64\n",
    " * 128\n",
    " * 256\n",
    " * ...\n",
    "* Set `keep_probability` to the probability of keeping a node using dropout"
   ]
  },
  {
   "cell_type": "code",
   "execution_count": 18,
   "metadata": {
    "collapsed": true,
    "deletable": true,
    "editable": true
   },
   "outputs": [],
   "source": [
    "# TODO: Tune Parameters\n",
    "epochs = 50\n",
    "batch_size = 512\n",
    "keep_probability = 0.9"
   ]
  },
  {
   "cell_type": "markdown",
   "metadata": {
    "deletable": true,
    "editable": true
   },
   "source": [
    "### Train on a Single CIFAR-10 Batch\n",
    "Instead of training the neural network on all the CIFAR-10 batches of data, let's use a single batch. This should save time while you iterate on the model to get a better accuracy.  Once the final validation accuracy is 50% or greater, run the model on all the data in the next section."
   ]
  },
  {
   "cell_type": "code",
   "execution_count": 19,
   "metadata": {
    "collapsed": false,
    "deletable": true,
    "editable": true
   },
   "outputs": [
    {
     "name": "stdout",
     "output_type": "stream",
     "text": [
      "Checking the Training on a Single Batch...\n",
      "Epoch  1, CIFAR-10 Batch 1:  Loss:     2.0534 Validation Accuracy: 0.288000\n",
      "Epoch  2, CIFAR-10 Batch 1:  Loss:     1.8642 Validation Accuracy: 0.347600\n",
      "Epoch  3, CIFAR-10 Batch 1:  Loss:     1.7177 Validation Accuracy: 0.405600\n",
      "Epoch  4, CIFAR-10 Batch 1:  Loss:     1.6215 Validation Accuracy: 0.437600\n",
      "Epoch  5, CIFAR-10 Batch 1:  Loss:     1.5412 Validation Accuracy: 0.453800\n",
      "Epoch  6, CIFAR-10 Batch 1:  Loss:     1.4851 Validation Accuracy: 0.473600\n",
      "Epoch  7, CIFAR-10 Batch 1:  Loss:     1.3969 Validation Accuracy: 0.494600\n",
      "Epoch  8, CIFAR-10 Batch 1:  Loss:     1.3506 Validation Accuracy: 0.501800\n",
      "Epoch  9, CIFAR-10 Batch 1:  Loss:     1.3232 Validation Accuracy: 0.517400\n",
      "Epoch 10, CIFAR-10 Batch 1:  Loss:     1.2394 Validation Accuracy: 0.526400\n",
      "Epoch 11, CIFAR-10 Batch 1:  Loss:     1.2320 Validation Accuracy: 0.535600\n",
      "Epoch 12, CIFAR-10 Batch 1:  Loss:     1.1918 Validation Accuracy: 0.548400\n",
      "Epoch 13, CIFAR-10 Batch 1:  Loss:     1.1489 Validation Accuracy: 0.551000\n",
      "Epoch 14, CIFAR-10 Batch 1:  Loss:     1.0858 Validation Accuracy: 0.563200\n",
      "Epoch 15, CIFAR-10 Batch 1:  Loss:     1.0777 Validation Accuracy: 0.564600\n",
      "Epoch 16, CIFAR-10 Batch 1:  Loss:     1.0279 Validation Accuracy: 0.579600\n",
      "Epoch 17, CIFAR-10 Batch 1:  Loss:     1.0215 Validation Accuracy: 0.578400\n",
      "Epoch 18, CIFAR-10 Batch 1:  Loss:     0.9642 Validation Accuracy: 0.572600\n",
      "Epoch 19, CIFAR-10 Batch 1:  Loss:     0.9324 Validation Accuracy: 0.580000\n",
      "Epoch 20, CIFAR-10 Batch 1:  Loss:     0.9043 Validation Accuracy: 0.585200\n",
      "Epoch 21, CIFAR-10 Batch 1:  Loss:     0.9158 Validation Accuracy: 0.580600\n",
      "Epoch 22, CIFAR-10 Batch 1:  Loss:     0.8700 Validation Accuracy: 0.577600\n",
      "Epoch 23, CIFAR-10 Batch 1:  Loss:     0.8696 Validation Accuracy: 0.582000\n",
      "Epoch 24, CIFAR-10 Batch 1:  Loss:     0.8084 Validation Accuracy: 0.593200\n",
      "Epoch 25, CIFAR-10 Batch 1:  Loss:     0.7989 Validation Accuracy: 0.592600\n",
      "Epoch 26, CIFAR-10 Batch 1:  Loss:     0.7964 Validation Accuracy: 0.597200\n",
      "Epoch 27, CIFAR-10 Batch 1:  Loss:     0.7780 Validation Accuracy: 0.596200\n",
      "Epoch 28, CIFAR-10 Batch 1:  Loss:     0.7256 Validation Accuracy: 0.601000\n",
      "Epoch 29, CIFAR-10 Batch 1:  Loss:     0.6904 Validation Accuracy: 0.604000\n",
      "Epoch 30, CIFAR-10 Batch 1:  Loss:     0.6613 Validation Accuracy: 0.607200\n",
      "Epoch 31, CIFAR-10 Batch 1:  Loss:     0.6939 Validation Accuracy: 0.605600\n",
      "Epoch 32, CIFAR-10 Batch 1:  Loss:     0.6277 Validation Accuracy: 0.604200\n",
      "Epoch 33, CIFAR-10 Batch 1:  Loss:     0.6468 Validation Accuracy: 0.611000\n",
      "Epoch 34, CIFAR-10 Batch 1:  Loss:     0.6178 Validation Accuracy: 0.611200\n",
      "Epoch 35, CIFAR-10 Batch 1:  Loss:     0.6608 Validation Accuracy: 0.601000\n",
      "Epoch 36, CIFAR-10 Batch 1:  Loss:     0.6168 Validation Accuracy: 0.593800\n",
      "Epoch 37, CIFAR-10 Batch 1:  Loss:     0.6102 Validation Accuracy: 0.594800\n",
      "Epoch 38, CIFAR-10 Batch 1:  Loss:     0.6115 Validation Accuracy: 0.605400\n",
      "Epoch 39, CIFAR-10 Batch 1:  Loss:     0.5649 Validation Accuracy: 0.602600\n",
      "Epoch 40, CIFAR-10 Batch 1:  Loss:     0.5345 Validation Accuracy: 0.608200\n",
      "Epoch 41, CIFAR-10 Batch 1:  Loss:     0.5712 Validation Accuracy: 0.605400\n",
      "Epoch 42, CIFAR-10 Batch 1:  Loss:     0.5669 Validation Accuracy: 0.600000\n",
      "Epoch 43, CIFAR-10 Batch 1:  Loss:     0.5452 Validation Accuracy: 0.590200\n",
      "Epoch 44, CIFAR-10 Batch 1:  Loss:     0.5401 Validation Accuracy: 0.587800\n",
      "Epoch 45, CIFAR-10 Batch 1:  Loss:     0.4695 Validation Accuracy: 0.606400\n",
      "Epoch 46, CIFAR-10 Batch 1:  Loss:     0.4517 Validation Accuracy: 0.609600\n",
      "Epoch 47, CIFAR-10 Batch 1:  Loss:     0.4645 Validation Accuracy: 0.607400\n",
      "Epoch 48, CIFAR-10 Batch 1:  Loss:     0.4810 Validation Accuracy: 0.601000\n",
      "Epoch 49, CIFAR-10 Batch 1:  Loss:     0.4283 Validation Accuracy: 0.613400\n",
      "Epoch 50, CIFAR-10 Batch 1:  Loss:     0.4268 Validation Accuracy: 0.613800\n"
     ]
    }
   ],
   "source": [
    "\"\"\"\n",
    "DON'T MODIFY ANYTHING IN THIS CELL\n",
    "\"\"\"\n",
    "print('Checking the Training on a Single Batch...')\n",
    "with tf.Session() as sess:\n",
    "    # Initializing the variables\n",
    "    sess.run(tf.global_variables_initializer())\n",
    "    \n",
    "    # Training cycle\n",
    "    for epoch in range(epochs):\n",
    "        batch_i = 1\n",
    "        for batch_features, batch_labels in helper.load_preprocess_training_batch(batch_i, batch_size):\n",
    "            train_neural_network(sess, optimizer, keep_probability, batch_features, batch_labels)\n",
    "        print('Epoch {:>2}, CIFAR-10 Batch {}:  '.format(epoch + 1, batch_i), end='')\n",
    "        print_stats(sess, batch_features, batch_labels, cost, accuracy)"
   ]
  },
  {
   "cell_type": "markdown",
   "metadata": {
    "deletable": true,
    "editable": true
   },
   "source": [
    "### Fully Train the Model\n",
    "Now that you got a good accuracy with a single CIFAR-10 batch, try it with all five batches."
   ]
  },
  {
   "cell_type": "code",
   "execution_count": 20,
   "metadata": {
    "collapsed": false,
    "deletable": true,
    "editable": true
   },
   "outputs": [
    {
     "name": "stdout",
     "output_type": "stream",
     "text": [
      "Training...\n",
      "Epoch  1, CIFAR-10 Batch 1:  Loss:     1.9330 Validation Accuracy: 0.310400\n",
      "Epoch  1, CIFAR-10 Batch 2:  Loss:     1.6605 Validation Accuracy: 0.390400\n",
      "Epoch  1, CIFAR-10 Batch 3:  Loss:     1.5303 Validation Accuracy: 0.419600\n",
      "Epoch  1, CIFAR-10 Batch 4:  Loss:     1.4291 Validation Accuracy: 0.461600\n",
      "Epoch  1, CIFAR-10 Batch 5:  Loss:     1.5205 Validation Accuracy: 0.468600\n",
      "Epoch  2, CIFAR-10 Batch 1:  Loss:     1.5054 Validation Accuracy: 0.500200\n",
      "Epoch  2, CIFAR-10 Batch 2:  Loss:     1.3733 Validation Accuracy: 0.504400\n",
      "Epoch  2, CIFAR-10 Batch 3:  Loss:     1.2605 Validation Accuracy: 0.504000\n",
      "Epoch  2, CIFAR-10 Batch 4:  Loss:     1.2089 Validation Accuracy: 0.520200\n",
      "Epoch  2, CIFAR-10 Batch 5:  Loss:     1.3235 Validation Accuracy: 0.552400\n",
      "Epoch  3, CIFAR-10 Batch 1:  Loss:     1.3416 Validation Accuracy: 0.546800\n",
      "Epoch  3, CIFAR-10 Batch 2:  Loss:     1.2192 Validation Accuracy: 0.557600\n",
      "Epoch  3, CIFAR-10 Batch 3:  Loss:     1.1351 Validation Accuracy: 0.543800\n",
      "Epoch  3, CIFAR-10 Batch 4:  Loss:     1.1218 Validation Accuracy: 0.561600\n",
      "Epoch  3, CIFAR-10 Batch 5:  Loss:     1.2173 Validation Accuracy: 0.573600\n",
      "Epoch  4, CIFAR-10 Batch 1:  Loss:     1.2587 Validation Accuracy: 0.577000\n",
      "Epoch  4, CIFAR-10 Batch 2:  Loss:     1.1409 Validation Accuracy: 0.578000\n",
      "Epoch  4, CIFAR-10 Batch 3:  Loss:     1.0275 Validation Accuracy: 0.574600\n",
      "Epoch  4, CIFAR-10 Batch 4:  Loss:     1.0238 Validation Accuracy: 0.586800\n",
      "Epoch  4, CIFAR-10 Batch 5:  Loss:     1.1068 Validation Accuracy: 0.591400\n",
      "Epoch  5, CIFAR-10 Batch 1:  Loss:     1.1718 Validation Accuracy: 0.587600\n",
      "Epoch  5, CIFAR-10 Batch 2:  Loss:     1.0601 Validation Accuracy: 0.586200\n",
      "Epoch  5, CIFAR-10 Batch 3:  Loss:     0.9714 Validation Accuracy: 0.592000\n",
      "Epoch  5, CIFAR-10 Batch 4:  Loss:     0.9866 Validation Accuracy: 0.601800\n",
      "Epoch  5, CIFAR-10 Batch 5:  Loss:     1.0409 Validation Accuracy: 0.610000\n",
      "Epoch  6, CIFAR-10 Batch 1:  Loss:     1.1140 Validation Accuracy: 0.607800\n",
      "Epoch  6, CIFAR-10 Batch 2:  Loss:     1.0509 Validation Accuracy: 0.585600\n",
      "Epoch  6, CIFAR-10 Batch 3:  Loss:     0.9277 Validation Accuracy: 0.609200\n",
      "Epoch  6, CIFAR-10 Batch 4:  Loss:     0.9365 Validation Accuracy: 0.613200\n",
      "Epoch  6, CIFAR-10 Batch 5:  Loss:     0.9923 Validation Accuracy: 0.619000\n",
      "Epoch  7, CIFAR-10 Batch 1:  Loss:     1.0521 Validation Accuracy: 0.616200\n",
      "Epoch  7, CIFAR-10 Batch 2:  Loss:     1.0151 Validation Accuracy: 0.592200\n",
      "Epoch  7, CIFAR-10 Batch 3:  Loss:     0.8731 Validation Accuracy: 0.616800\n",
      "Epoch  7, CIFAR-10 Batch 4:  Loss:     0.8927 Validation Accuracy: 0.628600\n",
      "Epoch  7, CIFAR-10 Batch 5:  Loss:     0.9374 Validation Accuracy: 0.634200\n",
      "Epoch  8, CIFAR-10 Batch 1:  Loss:     0.9896 Validation Accuracy: 0.634600\n",
      "Epoch  8, CIFAR-10 Batch 2:  Loss:     0.9553 Validation Accuracy: 0.612000\n",
      "Epoch  8, CIFAR-10 Batch 3:  Loss:     0.8431 Validation Accuracy: 0.627600\n",
      "Epoch  8, CIFAR-10 Batch 4:  Loss:     0.8388 Validation Accuracy: 0.641400\n",
      "Epoch  8, CIFAR-10 Batch 5:  Loss:     0.8481 Validation Accuracy: 0.639800\n",
      "Epoch  9, CIFAR-10 Batch 1:  Loss:     0.9667 Validation Accuracy: 0.644400\n",
      "Epoch  9, CIFAR-10 Batch 2:  Loss:     0.9298 Validation Accuracy: 0.623200\n",
      "Epoch  9, CIFAR-10 Batch 3:  Loss:     0.8316 Validation Accuracy: 0.631200\n",
      "Epoch  9, CIFAR-10 Batch 4:  Loss:     0.8041 Validation Accuracy: 0.648600\n",
      "Epoch  9, CIFAR-10 Batch 5:  Loss:     0.8241 Validation Accuracy: 0.647000\n",
      "Epoch 10, CIFAR-10 Batch 1:  Loss:     0.9186 Validation Accuracy: 0.649600\n",
      "Epoch 10, CIFAR-10 Batch 2:  Loss:     0.8751 Validation Accuracy: 0.636400\n",
      "Epoch 10, CIFAR-10 Batch 3:  Loss:     0.7728 Validation Accuracy: 0.638200\n",
      "Epoch 10, CIFAR-10 Batch 4:  Loss:     0.7718 Validation Accuracy: 0.653600\n",
      "Epoch 10, CIFAR-10 Batch 5:  Loss:     0.7754 Validation Accuracy: 0.658600\n",
      "Epoch 11, CIFAR-10 Batch 1:  Loss:     0.8682 Validation Accuracy: 0.654000\n",
      "Epoch 11, CIFAR-10 Batch 2:  Loss:     0.8625 Validation Accuracy: 0.635200\n",
      "Epoch 11, CIFAR-10 Batch 3:  Loss:     0.7556 Validation Accuracy: 0.641000\n",
      "Epoch 11, CIFAR-10 Batch 4:  Loss:     0.7227 Validation Accuracy: 0.661000\n",
      "Epoch 11, CIFAR-10 Batch 5:  Loss:     0.7408 Validation Accuracy: 0.660800\n",
      "Epoch 12, CIFAR-10 Batch 1:  Loss:     0.8627 Validation Accuracy: 0.664000\n",
      "Epoch 12, CIFAR-10 Batch 2:  Loss:     0.8115 Validation Accuracy: 0.645600\n",
      "Epoch 12, CIFAR-10 Batch 3:  Loss:     0.7077 Validation Accuracy: 0.651200\n",
      "Epoch 12, CIFAR-10 Batch 4:  Loss:     0.7239 Validation Accuracy: 0.662400\n",
      "Epoch 12, CIFAR-10 Batch 5:  Loss:     0.7058 Validation Accuracy: 0.668600\n",
      "Epoch 13, CIFAR-10 Batch 1:  Loss:     0.8196 Validation Accuracy: 0.663200\n",
      "Epoch 13, CIFAR-10 Batch 2:  Loss:     0.7932 Validation Accuracy: 0.652400\n",
      "Epoch 13, CIFAR-10 Batch 3:  Loss:     0.7181 Validation Accuracy: 0.642200\n",
      "Epoch 13, CIFAR-10 Batch 4:  Loss:     0.7046 Validation Accuracy: 0.666200\n",
      "Epoch 13, CIFAR-10 Batch 5:  Loss:     0.6951 Validation Accuracy: 0.662000\n",
      "Epoch 14, CIFAR-10 Batch 1:  Loss:     0.7698 Validation Accuracy: 0.668400\n",
      "Epoch 14, CIFAR-10 Batch 2:  Loss:     0.7423 Validation Accuracy: 0.660400\n",
      "Epoch 14, CIFAR-10 Batch 3:  Loss:     0.6842 Validation Accuracy: 0.643800\n",
      "Epoch 14, CIFAR-10 Batch 4:  Loss:     0.6560 Validation Accuracy: 0.669600\n",
      "Epoch 14, CIFAR-10 Batch 5:  Loss:     0.6470 Validation Accuracy: 0.671000\n",
      "Epoch 15, CIFAR-10 Batch 1:  Loss:     0.7572 Validation Accuracy: 0.672200\n",
      "Epoch 15, CIFAR-10 Batch 2:  Loss:     0.7417 Validation Accuracy: 0.657000\n",
      "Epoch 15, CIFAR-10 Batch 3:  Loss:     0.6323 Validation Accuracy: 0.645600\n",
      "Epoch 15, CIFAR-10 Batch 4:  Loss:     0.6531 Validation Accuracy: 0.668600\n",
      "Epoch 15, CIFAR-10 Batch 5:  Loss:     0.5961 Validation Accuracy: 0.677000\n",
      "Epoch 16, CIFAR-10 Batch 1:  Loss:     0.7308 Validation Accuracy: 0.672800\n",
      "Epoch 16, CIFAR-10 Batch 2:  Loss:     0.7215 Validation Accuracy: 0.663000\n",
      "Epoch 16, CIFAR-10 Batch 3:  Loss:     0.5940 Validation Accuracy: 0.662400\n",
      "Epoch 16, CIFAR-10 Batch 4:  Loss:     0.6063 Validation Accuracy: 0.671800\n",
      "Epoch 16, CIFAR-10 Batch 5:  Loss:     0.5963 Validation Accuracy: 0.674800\n",
      "Epoch 17, CIFAR-10 Batch 1:  Loss:     0.6827 Validation Accuracy: 0.679200\n",
      "Epoch 17, CIFAR-10 Batch 2:  Loss:     0.6752 Validation Accuracy: 0.667600\n",
      "Epoch 17, CIFAR-10 Batch 3:  Loss:     0.5652 Validation Accuracy: 0.664600\n",
      "Epoch 17, CIFAR-10 Batch 4:  Loss:     0.5666 Validation Accuracy: 0.674000\n",
      "Epoch 17, CIFAR-10 Batch 5:  Loss:     0.5685 Validation Accuracy: 0.678400\n",
      "Epoch 18, CIFAR-10 Batch 1:  Loss:     0.6655 Validation Accuracy: 0.674800\n",
      "Epoch 18, CIFAR-10 Batch 2:  Loss:     0.6093 Validation Accuracy: 0.677800\n",
      "Epoch 18, CIFAR-10 Batch 3:  Loss:     0.5371 Validation Accuracy: 0.669000\n",
      "Epoch 18, CIFAR-10 Batch 4:  Loss:     0.5454 Validation Accuracy: 0.680200\n",
      "Epoch 18, CIFAR-10 Batch 5:  Loss:     0.5448 Validation Accuracy: 0.674800\n",
      "Epoch 19, CIFAR-10 Batch 1:  Loss:     0.6552 Validation Accuracy: 0.668400\n",
      "Epoch 19, CIFAR-10 Batch 2:  Loss:     0.6062 Validation Accuracy: 0.685200\n",
      "Epoch 19, CIFAR-10 Batch 3:  Loss:     0.5142 Validation Accuracy: 0.678600\n",
      "Epoch 19, CIFAR-10 Batch 4:  Loss:     0.5386 Validation Accuracy: 0.683400\n",
      "Epoch 19, CIFAR-10 Batch 5:  Loss:     0.5337 Validation Accuracy: 0.676000\n",
      "Epoch 20, CIFAR-10 Batch 1:  Loss:     0.6085 Validation Accuracy: 0.676800\n",
      "Epoch 20, CIFAR-10 Batch 2:  Loss:     0.5806 Validation Accuracy: 0.689600\n",
      "Epoch 20, CIFAR-10 Batch 3:  Loss:     0.5260 Validation Accuracy: 0.678400\n",
      "Epoch 20, CIFAR-10 Batch 4:  Loss:     0.4922 Validation Accuracy: 0.689000\n",
      "Epoch 20, CIFAR-10 Batch 5:  Loss:     0.4932 Validation Accuracy: 0.681200\n",
      "Epoch 21, CIFAR-10 Batch 1:  Loss:     0.6059 Validation Accuracy: 0.682200\n",
      "Epoch 21, CIFAR-10 Batch 2:  Loss:     0.5346 Validation Accuracy: 0.689200\n",
      "Epoch 21, CIFAR-10 Batch 3:  Loss:     0.4677 Validation Accuracy: 0.684800\n",
      "Epoch 21, CIFAR-10 Batch 4:  Loss:     0.4811 Validation Accuracy: 0.689600\n",
      "Epoch 21, CIFAR-10 Batch 5:  Loss:     0.4553 Validation Accuracy: 0.688400\n",
      "Epoch 22, CIFAR-10 Batch 1:  Loss:     0.5747 Validation Accuracy: 0.687600\n",
      "Epoch 22, CIFAR-10 Batch 2:  Loss:     0.5088 Validation Accuracy: 0.696400\n",
      "Epoch 22, CIFAR-10 Batch 3:  Loss:     0.4338 Validation Accuracy: 0.687800\n",
      "Epoch 22, CIFAR-10 Batch 4:  Loss:     0.4779 Validation Accuracy: 0.683000\n",
      "Epoch 22, CIFAR-10 Batch 5:  Loss:     0.4189 Validation Accuracy: 0.689600\n",
      "Epoch 23, CIFAR-10 Batch 1:  Loss:     0.5378 Validation Accuracy: 0.689000\n",
      "Epoch 23, CIFAR-10 Batch 2:  Loss:     0.5330 Validation Accuracy: 0.697400\n",
      "Epoch 23, CIFAR-10 Batch 3:  Loss:     0.4579 Validation Accuracy: 0.686000\n",
      "Epoch 23, CIFAR-10 Batch 4:  Loss:     0.4239 Validation Accuracy: 0.686600\n",
      "Epoch 23, CIFAR-10 Batch 5:  Loss:     0.4337 Validation Accuracy: 0.690400\n",
      "Epoch 24, CIFAR-10 Batch 1:  Loss:     0.5447 Validation Accuracy: 0.687000\n",
      "Epoch 24, CIFAR-10 Batch 2:  Loss:     0.4844 Validation Accuracy: 0.703000\n",
      "Epoch 24, CIFAR-10 Batch 3:  Loss:     0.4091 Validation Accuracy: 0.688200\n",
      "Epoch 24, CIFAR-10 Batch 4:  Loss:     0.4501 Validation Accuracy: 0.686600\n",
      "Epoch 24, CIFAR-10 Batch 5:  Loss:     0.3899 Validation Accuracy: 0.699600\n",
      "Epoch 25, CIFAR-10 Batch 1:  Loss:     0.4818 Validation Accuracy: 0.693800\n",
      "Epoch 25, CIFAR-10 Batch 2:  Loss:     0.4713 Validation Accuracy: 0.695800\n",
      "Epoch 25, CIFAR-10 Batch 3:  Loss:     0.3991 Validation Accuracy: 0.686200\n",
      "Epoch 25, CIFAR-10 Batch 4:  Loss:     0.4192 Validation Accuracy: 0.685200\n",
      "Epoch 25, CIFAR-10 Batch 5:  Loss:     0.3668 Validation Accuracy: 0.694200\n",
      "Epoch 26, CIFAR-10 Batch 1:  Loss:     0.5086 Validation Accuracy: 0.682400\n",
      "Epoch 26, CIFAR-10 Batch 2:  Loss:     0.4830 Validation Accuracy: 0.700200\n",
      "Epoch 26, CIFAR-10 Batch 3:  Loss:     0.4010 Validation Accuracy: 0.686000\n",
      "Epoch 26, CIFAR-10 Batch 4:  Loss:     0.4085 Validation Accuracy: 0.690600\n",
      "Epoch 26, CIFAR-10 Batch 5:  Loss:     0.3324 Validation Accuracy: 0.687000\n",
      "Epoch 27, CIFAR-10 Batch 1:  Loss:     0.4482 Validation Accuracy: 0.689400\n",
      "Epoch 27, CIFAR-10 Batch 2:  Loss:     0.4202 Validation Accuracy: 0.701600\n",
      "Epoch 27, CIFAR-10 Batch 3:  Loss:     0.3371 Validation Accuracy: 0.688200\n",
      "Epoch 27, CIFAR-10 Batch 4:  Loss:     0.3950 Validation Accuracy: 0.681000\n",
      "Epoch 27, CIFAR-10 Batch 5:  Loss:     0.3311 Validation Accuracy: 0.697600\n",
      "Epoch 28, CIFAR-10 Batch 1:  Loss:     0.4258 Validation Accuracy: 0.688600\n",
      "Epoch 28, CIFAR-10 Batch 2:  Loss:     0.4275 Validation Accuracy: 0.699400\n",
      "Epoch 28, CIFAR-10 Batch 3:  Loss:     0.3690 Validation Accuracy: 0.688200\n",
      "Epoch 28, CIFAR-10 Batch 4:  Loss:     0.3800 Validation Accuracy: 0.691400\n",
      "Epoch 28, CIFAR-10 Batch 5:  Loss:     0.3236 Validation Accuracy: 0.699400\n",
      "Epoch 29, CIFAR-10 Batch 1:  Loss:     0.4098 Validation Accuracy: 0.691200\n",
      "Epoch 29, CIFAR-10 Batch 2:  Loss:     0.4009 Validation Accuracy: 0.697600\n",
      "Epoch 29, CIFAR-10 Batch 3:  Loss:     0.3437 Validation Accuracy: 0.681600\n",
      "Epoch 29, CIFAR-10 Batch 4:  Loss:     0.3680 Validation Accuracy: 0.686800\n",
      "Epoch 29, CIFAR-10 Batch 5:  Loss:     0.3052 Validation Accuracy: 0.698000\n",
      "Epoch 30, CIFAR-10 Batch 1:  Loss:     0.4161 Validation Accuracy: 0.690400\n",
      "Epoch 30, CIFAR-10 Batch 2:  Loss:     0.3986 Validation Accuracy: 0.698600\n",
      "Epoch 30, CIFAR-10 Batch 3:  Loss:     0.3385 Validation Accuracy: 0.667600\n",
      "Epoch 30, CIFAR-10 Batch 4:  Loss:     0.3656 Validation Accuracy: 0.689000\n",
      "Epoch 30, CIFAR-10 Batch 5:  Loss:     0.2980 Validation Accuracy: 0.697600\n",
      "Epoch 31, CIFAR-10 Batch 1:  Loss:     0.3870 Validation Accuracy: 0.695200\n",
      "Epoch 31, CIFAR-10 Batch 2:  Loss:     0.3785 Validation Accuracy: 0.699200\n",
      "Epoch 31, CIFAR-10 Batch 3:  Loss:     0.2957 Validation Accuracy: 0.690800\n",
      "Epoch 31, CIFAR-10 Batch 4:  Loss:     0.3601 Validation Accuracy: 0.690200\n",
      "Epoch 31, CIFAR-10 Batch 5:  Loss:     0.3088 Validation Accuracy: 0.687600\n",
      "Epoch 32, CIFAR-10 Batch 1:  Loss:     0.3244 Validation Accuracy: 0.693800\n",
      "Epoch 32, CIFAR-10 Batch 2:  Loss:     0.3647 Validation Accuracy: 0.683000\n",
      "Epoch 32, CIFAR-10 Batch 3:  Loss:     0.2971 Validation Accuracy: 0.685400\n",
      "Epoch 32, CIFAR-10 Batch 4:  Loss:     0.3162 Validation Accuracy: 0.678400\n",
      "Epoch 32, CIFAR-10 Batch 5:  Loss:     0.2984 Validation Accuracy: 0.694600\n",
      "Epoch 33, CIFAR-10 Batch 1:  Loss:     0.3400 Validation Accuracy: 0.698800\n",
      "Epoch 33, CIFAR-10 Batch 2:  Loss:     0.4046 Validation Accuracy: 0.666800\n",
      "Epoch 33, CIFAR-10 Batch 3:  Loss:     0.3202 Validation Accuracy: 0.674800\n",
      "Epoch 33, CIFAR-10 Batch 4:  Loss:     0.3318 Validation Accuracy: 0.676400\n",
      "Epoch 33, CIFAR-10 Batch 5:  Loss:     0.3583 Validation Accuracy: 0.683400\n",
      "Epoch 34, CIFAR-10 Batch 1:  Loss:     0.4067 Validation Accuracy: 0.693400\n",
      "Epoch 34, CIFAR-10 Batch 2:  Loss:     0.3489 Validation Accuracy: 0.680600\n",
      "Epoch 34, CIFAR-10 Batch 3:  Loss:     0.3264 Validation Accuracy: 0.679000\n",
      "Epoch 34, CIFAR-10 Batch 4:  Loss:     0.3166 Validation Accuracy: 0.678400\n",
      "Epoch 34, CIFAR-10 Batch 5:  Loss:     0.3096 Validation Accuracy: 0.684200\n",
      "Epoch 35, CIFAR-10 Batch 1:  Loss:     0.3762 Validation Accuracy: 0.696200\n",
      "Epoch 35, CIFAR-10 Batch 2:  Loss:     0.3411 Validation Accuracy: 0.678600\n",
      "Epoch 35, CIFAR-10 Batch 3:  Loss:     0.3198 Validation Accuracy: 0.677600\n",
      "Epoch 35, CIFAR-10 Batch 4:  Loss:     0.3394 Validation Accuracy: 0.661800\n",
      "Epoch 35, CIFAR-10 Batch 5:  Loss:     0.3310 Validation Accuracy: 0.688400\n",
      "Epoch 36, CIFAR-10 Batch 1:  Loss:     0.3649 Validation Accuracy: 0.697000\n",
      "Epoch 36, CIFAR-10 Batch 2:  Loss:     0.3288 Validation Accuracy: 0.677000\n",
      "Epoch 36, CIFAR-10 Batch 3:  Loss:     0.2973 Validation Accuracy: 0.681600\n",
      "Epoch 36, CIFAR-10 Batch 4:  Loss:     0.3344 Validation Accuracy: 0.664200\n",
      "Epoch 36, CIFAR-10 Batch 5:  Loss:     0.2624 Validation Accuracy: 0.689000\n",
      "Epoch 37, CIFAR-10 Batch 1:  Loss:     0.3369 Validation Accuracy: 0.692600\n",
      "Epoch 37, CIFAR-10 Batch 2:  Loss:     0.3102 Validation Accuracy: 0.684800\n",
      "Epoch 37, CIFAR-10 Batch 3:  Loss:     0.2750 Validation Accuracy: 0.681800\n",
      "Epoch 37, CIFAR-10 Batch 4:  Loss:     0.3141 Validation Accuracy: 0.672800\n",
      "Epoch 37, CIFAR-10 Batch 5:  Loss:     0.2724 Validation Accuracy: 0.692600\n",
      "Epoch 38, CIFAR-10 Batch 1:  Loss:     0.3232 Validation Accuracy: 0.689200\n",
      "Epoch 38, CIFAR-10 Batch 2:  Loss:     0.2888 Validation Accuracy: 0.695000\n",
      "Epoch 38, CIFAR-10 Batch 3:  Loss:     0.3048 Validation Accuracy: 0.676400\n",
      "Epoch 38, CIFAR-10 Batch 4:  Loss:     0.3030 Validation Accuracy: 0.662800\n",
      "Epoch 38, CIFAR-10 Batch 5:  Loss:     0.2455 Validation Accuracy: 0.699800\n",
      "Epoch 39, CIFAR-10 Batch 1:  Loss:     0.3142 Validation Accuracy: 0.697800\n",
      "Epoch 39, CIFAR-10 Batch 2:  Loss:     0.2990 Validation Accuracy: 0.689400\n",
      "Epoch 39, CIFAR-10 Batch 3:  Loss:     0.2451 Validation Accuracy: 0.679800\n",
      "Epoch 39, CIFAR-10 Batch 4:  Loss:     0.3008 Validation Accuracy: 0.668200\n",
      "Epoch 39, CIFAR-10 Batch 5:  Loss:     0.2377 Validation Accuracy: 0.698600\n",
      "Epoch 40, CIFAR-10 Batch 1:  Loss:     0.3731 Validation Accuracy: 0.676200\n",
      "Epoch 40, CIFAR-10 Batch 2:  Loss:     0.3233 Validation Accuracy: 0.679200\n",
      "Epoch 40, CIFAR-10 Batch 3:  Loss:     0.2338 Validation Accuracy: 0.684000\n",
      "Epoch 40, CIFAR-10 Batch 4:  Loss:     0.2704 Validation Accuracy: 0.676600\n",
      "Epoch 40, CIFAR-10 Batch 5:  Loss:     0.2318 Validation Accuracy: 0.697600\n",
      "Epoch 41, CIFAR-10 Batch 1:  Loss:     0.3209 Validation Accuracy: 0.680400\n",
      "Epoch 41, CIFAR-10 Batch 2:  Loss:     0.3160 Validation Accuracy: 0.686600\n",
      "Epoch 41, CIFAR-10 Batch 3:  Loss:     0.2416 Validation Accuracy: 0.690000\n",
      "Epoch 41, CIFAR-10 Batch 4:  Loss:     0.2145 Validation Accuracy: 0.681200\n",
      "Epoch 41, CIFAR-10 Batch 5:  Loss:     0.2039 Validation Accuracy: 0.700000\n",
      "Epoch 42, CIFAR-10 Batch 1:  Loss:     0.3266 Validation Accuracy: 0.677000\n",
      "Epoch 42, CIFAR-10 Batch 2:  Loss:     0.2682 Validation Accuracy: 0.691800\n",
      "Epoch 42, CIFAR-10 Batch 3:  Loss:     0.2433 Validation Accuracy: 0.691400\n",
      "Epoch 42, CIFAR-10 Batch 4:  Loss:     0.2627 Validation Accuracy: 0.675000\n",
      "Epoch 42, CIFAR-10 Batch 5:  Loss:     0.2190 Validation Accuracy: 0.697600\n",
      "Epoch 43, CIFAR-10 Batch 1:  Loss:     0.2888 Validation Accuracy: 0.678600\n",
      "Epoch 43, CIFAR-10 Batch 2:  Loss:     0.2488 Validation Accuracy: 0.693000\n",
      "Epoch 43, CIFAR-10 Batch 3:  Loss:     0.2530 Validation Accuracy: 0.686600\n",
      "Epoch 43, CIFAR-10 Batch 4:  Loss:     0.2251 Validation Accuracy: 0.689400\n",
      "Epoch 43, CIFAR-10 Batch 5:  Loss:     0.2212 Validation Accuracy: 0.688600\n",
      "Epoch 44, CIFAR-10 Batch 1:  Loss:     0.2737 Validation Accuracy: 0.685000\n",
      "Epoch 44, CIFAR-10 Batch 2:  Loss:     0.2559 Validation Accuracy: 0.692400\n",
      "Epoch 44, CIFAR-10 Batch 3:  Loss:     0.2110 Validation Accuracy: 0.690400\n",
      "Epoch 44, CIFAR-10 Batch 4:  Loss:     0.2090 Validation Accuracy: 0.679600\n",
      "Epoch 44, CIFAR-10 Batch 5:  Loss:     0.2174 Validation Accuracy: 0.685800\n",
      "Epoch 45, CIFAR-10 Batch 1:  Loss:     0.2552 Validation Accuracy: 0.672600\n",
      "Epoch 45, CIFAR-10 Batch 2:  Loss:     0.2675 Validation Accuracy: 0.687400\n",
      "Epoch 45, CIFAR-10 Batch 3:  Loss:     0.2390 Validation Accuracy: 0.690400\n",
      "Epoch 45, CIFAR-10 Batch 4:  Loss:     0.2134 Validation Accuracy: 0.674800\n",
      "Epoch 45, CIFAR-10 Batch 5:  Loss:     0.2154 Validation Accuracy: 0.686200\n",
      "Epoch 46, CIFAR-10 Batch 1:  Loss:     0.2551 Validation Accuracy: 0.682000\n",
      "Epoch 46, CIFAR-10 Batch 2:  Loss:     0.2295 Validation Accuracy: 0.689800\n",
      "Epoch 46, CIFAR-10 Batch 3:  Loss:     0.2013 Validation Accuracy: 0.692000\n",
      "Epoch 46, CIFAR-10 Batch 4:  Loss:     0.2225 Validation Accuracy: 0.672600\n",
      "Epoch 46, CIFAR-10 Batch 5:  Loss:     0.2064 Validation Accuracy: 0.682600\n",
      "Epoch 47, CIFAR-10 Batch 1:  Loss:     0.2533 Validation Accuracy: 0.681600\n",
      "Epoch 47, CIFAR-10 Batch 2:  Loss:     0.2536 Validation Accuracy: 0.681200\n",
      "Epoch 47, CIFAR-10 Batch 3:  Loss:     0.1664 Validation Accuracy: 0.691800\n",
      "Epoch 47, CIFAR-10 Batch 4:  Loss:     0.1970 Validation Accuracy: 0.682800\n",
      "Epoch 47, CIFAR-10 Batch 5:  Loss:     0.1641 Validation Accuracy: 0.686400\n",
      "Epoch 48, CIFAR-10 Batch 1:  Loss:     0.2372 Validation Accuracy: 0.679600\n",
      "Epoch 48, CIFAR-10 Batch 2:  Loss:     0.2396 Validation Accuracy: 0.683800\n",
      "Epoch 48, CIFAR-10 Batch 3:  Loss:     0.1522 Validation Accuracy: 0.698600\n",
      "Epoch 48, CIFAR-10 Batch 4:  Loss:     0.2095 Validation Accuracy: 0.674800\n",
      "Epoch 48, CIFAR-10 Batch 5:  Loss:     0.1610 Validation Accuracy: 0.696200\n",
      "Epoch 49, CIFAR-10 Batch 1:  Loss:     0.2129 Validation Accuracy: 0.688400\n",
      "Epoch 49, CIFAR-10 Batch 2:  Loss:     0.2124 Validation Accuracy: 0.681800\n",
      "Epoch 49, CIFAR-10 Batch 3:  Loss:     0.1628 Validation Accuracy: 0.692000\n",
      "Epoch 49, CIFAR-10 Batch 4:  Loss:     0.1748 Validation Accuracy: 0.681800\n",
      "Epoch 49, CIFAR-10 Batch 5:  Loss:     0.1520 Validation Accuracy: 0.700400\n",
      "Epoch 50, CIFAR-10 Batch 1:  Loss:     0.2034 Validation Accuracy: 0.686600\n",
      "Epoch 50, CIFAR-10 Batch 2:  Loss:     0.2099 Validation Accuracy: 0.688000\n",
      "Epoch 50, CIFAR-10 Batch 3:  Loss:     0.1748 Validation Accuracy: 0.685800\n",
      "Epoch 50, CIFAR-10 Batch 4:  Loss:     0.1750 Validation Accuracy: 0.681800\n",
      "Epoch 50, CIFAR-10 Batch 5:  Loss:     0.1805 Validation Accuracy: 0.689000\n"
     ]
    }
   ],
   "source": [
    "\"\"\"\n",
    "DON'T MODIFY ANYTHING IN THIS CELL\n",
    "\"\"\"\n",
    "save_model_path = './image_classification'\n",
    "\n",
    "print('Training...')\n",
    "with tf.Session() as sess:\n",
    "    # Initializing the variables\n",
    "    sess.run(tf.global_variables_initializer())\n",
    "    \n",
    "    # Training cycle\n",
    "    for epoch in range(epochs):\n",
    "        # Loop over all batches\n",
    "        n_batches = 5\n",
    "        for batch_i in range(1, n_batches + 1):\n",
    "            for batch_features, batch_labels in helper.load_preprocess_training_batch(batch_i, batch_size):\n",
    "                train_neural_network(sess, optimizer, keep_probability, batch_features, batch_labels)\n",
    "            print('Epoch {:>2}, CIFAR-10 Batch {}:  '.format(epoch + 1, batch_i), end='')\n",
    "            print_stats(sess, batch_features, batch_labels, cost, accuracy)\n",
    "            \n",
    "    # Save Model\n",
    "    saver = tf.train.Saver()\n",
    "    save_path = saver.save(sess, save_model_path)"
   ]
  },
  {
   "cell_type": "markdown",
   "metadata": {
    "deletable": true,
    "editable": true
   },
   "source": [
    "# Checkpoint\n",
    "The model has been saved to disk.\n",
    "## Test Model\n",
    "Test your model against the test dataset.  This will be your final accuracy. You should have an accuracy greater than 50%. If you don't, keep tweaking the model architecture and parameters."
   ]
  },
  {
   "cell_type": "code",
   "execution_count": 21,
   "metadata": {
    "collapsed": false,
    "deletable": true,
    "editable": true
   },
   "outputs": [
    {
     "name": "stdout",
     "output_type": "stream",
     "text": [
      "Testing Accuracy: 0.6995806515216827\n",
      "\n"
     ]
    },
    {
     "data": {
      "image/png": "[encoded data removed]",
      "text/plain": [
       "<matplotlib.figure.Figure at 0x7f6168288860>"
      ]
     },
     "metadata": {
      "image/png": {
       "height": 319,
       "width": 355
      }
     },
     "output_type": "display_data"
    }
   ],
   "source": [
    "\"\"\"\n",
    "DON'T MODIFY ANYTHING IN THIS CELL\n",
    "\"\"\"\n",
    "%matplotlib inline\n",
    "%config InlineBackend.figure_format = 'retina'\n",
    "\n",
    "import tensorflow as tf\n",
    "import pickle\n",
    "import helper\n",
    "import random\n",
    "\n",
    "# Set batch size if not already set\n",
    "try:\n",
    "    if batch_size:\n",
    "        pass\n",
    "except NameError:\n",
    "    batch_size = 64\n",
    "\n",
    "save_model_path = './image_classification'\n",
    "n_samples = 4\n",
    "top_n_predictions = 3\n",
    "\n",
    "def test_model():\n",
    "    \"\"\"\n",
    "    Test the saved model against the test dataset\n",
    "    \"\"\"\n",
    "\n",
    "    test_features, test_labels = pickle.load(open('preprocess_test.p', mode='rb'))\n",
    "    loaded_graph = tf.Graph()\n",
    "\n",
    "    with tf.Session(graph=loaded_graph) as sess:\n",
    "        # Load model\n",
    "        loader = tf.train.import_meta_graph(save_model_path + '.meta')\n",
    "        loader.restore(sess, save_model_path)\n",
    "\n",
    "        # Get Tensors from loaded model\n",
    "        loaded_x = loaded_graph.get_tensor_by_name('x:0')\n",
    "        loaded_y = loaded_graph.get_tensor_by_name('y:0')\n",
    "        loaded_keep_prob = loaded_graph.get_tensor_by_name('keep_prob:0')\n",
    "        loaded_logits = loaded_graph.get_tensor_by_name('logits:0')\n",
    "        loaded_acc = loaded_graph.get_tensor_by_name('accuracy:0')\n",
    "        \n",
    "        # Get accuracy in batches for memory limitations\n",
    "        test_batch_acc_total = 0\n",
    "        test_batch_count = 0\n",
    "        \n",
    "        for test_feature_batch, test_label_batch in helper.batch_features_labels(test_features, test_labels, batch_size):\n",
    "            test_batch_acc_total += sess.run(\n",
    "                loaded_acc,\n",
    "                feed_dict={loaded_x: test_feature_batch, loaded_y: test_label_batch, loaded_keep_prob: 1.0})\n",
    "            test_batch_count += 1\n",
    "\n",
    "        print('Testing Accuracy: {}\\n'.format(test_batch_acc_total/test_batch_count))\n",
    "\n",
    "        # Print Random Samples\n",
    "        random_test_features, random_test_labels = tuple(zip(*random.sample(list(zip(test_features, test_labels)), n_samples)))\n",
    "        random_test_predictions = sess.run(\n",
    "            tf.nn.top_k(tf.nn.softmax(loaded_logits), top_n_predictions),\n",
    "            feed_dict={loaded_x: random_test_features, loaded_y: random_test_labels, loaded_keep_prob: 1.0})\n",
    "        helper.display_image_predictions(random_test_features, random_test_labels, random_test_predictions)\n",
    "\n",
    "\n",
    "test_model()"
   ]
  },
  {
   "cell_type": "markdown",
   "metadata": {
    "deletable": true,
    "editable": true
   },
   "source": [
    "## Why 50-80% Accuracy?\n",
    "You might be wondering why you can't get an accuracy any higher. First things first, 50% isn't bad for a simple CNN.  Pure guessing would get you 10% accuracy. However, you might notice people are getting scores [well above 80%](http://rodrigob.github.io/are_we_there_yet/build/classification_datasets_results.html#43494641522d3130).  That's because we haven't taught you all there is to know about neural networks. We still need to cover a few more techniques.\n",
    "## Submitting This Project\n",
    "When submitting this project, make sure to run all the cells before saving the notebook.  Save the notebook file as \"dlnd_image_classification.ipynb\" and save it as a HTML file under \"File\" -> \"Download as\".  Include the \"helper.py\" and \"problem_unittests.py\" files in your submission."
   ]
  }
 ],
 "metadata": {
  "kernelspec": {
   "display_name": "Python 3",
   "language": "python",
   "name": "python3"
  },
  "language_info": {
   "codemirror_mode": {
    "name": "ipython",
    "version": 3
   },
   "file_extension": ".py",
   "mimetype": "text/x-python",
   "name": "python",
   "nbconvert_exporter": "python",
   "pygments_lexer": "ipython3",
   "version": "3.5.3"
  }
 },
 "nbformat": 4,
 "nbformat_minor": 0
}
